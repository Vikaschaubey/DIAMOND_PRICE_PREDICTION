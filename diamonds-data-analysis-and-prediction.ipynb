{
 "cells": [
  {
   "cell_type": "markdown",
   "id": "b088aa1a",
   "metadata": {
    "papermill": {
     "duration": 0.019321,
     "end_time": "2022-09-20T11:51:43.671574",
     "exception": false,
     "start_time": "2022-09-20T11:51:43.652253",
     "status": "completed"
    },
    "pycharm": {
     "name": "#%% md\n"
    },
    "tags": []
   },
   "source": [
    "# Diamonds Price Prediction"
   ]
  },
  {
   "cell_type": "markdown",
   "id": "7d50d504",
   "metadata": {
    "papermill": {
     "duration": 0.015353,
     "end_time": "2022-09-20T11:51:43.702881",
     "exception": false,
     "start_time": "2022-09-20T11:51:43.687528",
     "status": "completed"
    },
    "pycharm": {
     "name": "#%% md\n"
    },
    "tags": []
   },
   "source": [
    "### Import Libraries"
   ]
  },
  {
   "cell_type": "code",
   "execution_count": 1,
   "id": "47ff84df",
   "metadata": {
    "execution": {
     "iopub.execute_input": "2022-09-20T11:51:43.737039Z",
     "iopub.status.busy": "2022-09-20T11:51:43.736511Z",
     "iopub.status.idle": "2022-09-20T11:51:44.970703Z",
     "shell.execute_reply": "2022-09-20T11:51:44.969500Z"
    },
    "papermill": {
     "duration": 1.255288,
     "end_time": "2022-09-20T11:51:44.973932",
     "exception": false,
     "start_time": "2022-09-20T11:51:43.718644",
     "status": "completed"
    },
    "pycharm": {
     "name": "#%%\n"
    },
    "tags": []
   },
   "outputs": [],
   "source": [
    "# Data Cleaning\n",
    "import pandas as pd\n",
    "\n",
    "# Array Functions\n",
    "import numpy as np\n",
    "\n",
    "# Data Visualization\n",
    "import matplotlib.pyplot as plt\n",
    "import seaborn as sns"
   ]
  },
  {
   "cell_type": "markdown",
   "id": "16e3171f",
   "metadata": {
    "papermill": {
     "duration": 0.01623,
     "end_time": "2022-09-20T11:51:45.007480",
     "exception": false,
     "start_time": "2022-09-20T11:51:44.991250",
     "status": "completed"
    },
    "pycharm": {
     "name": "#%% md\n"
    },
    "tags": []
   },
   "source": [
    "### Data Pre-Processing"
   ]
  },
  {
   "cell_type": "markdown",
   "id": "d32463c1",
   "metadata": {
    "papermill": {
     "duration": 0.016653,
     "end_time": "2022-09-20T11:51:45.040550",
     "exception": false,
     "start_time": "2022-09-20T11:51:45.023897",
     "status": "completed"
    },
    "pycharm": {
     "name": "#%% md\n"
    },
    "tags": []
   },
   "source": [
    "##### Read Data"
   ]
  },
  {
   "cell_type": "code",
   "execution_count": 2,
   "id": "eda9e1e6",
   "metadata": {
    "execution": {
     "iopub.execute_input": "2022-09-20T11:51:45.075693Z",
     "iopub.status.busy": "2022-09-20T11:51:45.075241Z",
     "iopub.status.idle": "2022-09-20T11:51:45.258249Z",
     "shell.execute_reply": "2022-09-20T11:51:45.256920Z"
    },
    "papermill": {
     "duration": 0.204339,
     "end_time": "2022-09-20T11:51:45.261519",
     "exception": false,
     "start_time": "2022-09-20T11:51:45.057180",
     "status": "completed"
    },
    "pycharm": {
     "name": "#%%\n"
    },
    "scrolled": true,
    "tags": []
   },
   "outputs": [
    {
     "name": "stdout",
     "output_type": "stream",
     "text": [
      "<class 'pandas.core.frame.DataFrame'>\n",
      "RangeIndex: 53940 entries, 0 to 53939\n",
      "Data columns (total 11 columns):\n",
      " #   Column      Non-Null Count  Dtype  \n",
      "---  ------      --------------  -----  \n",
      " 0   Unnamed: 0  53940 non-null  int64  \n",
      " 1   carat       53940 non-null  float64\n",
      " 2   cut         53940 non-null  object \n",
      " 3   color       53940 non-null  object \n",
      " 4   clarity     53940 non-null  object \n",
      " 5   depth       53940 non-null  float64\n",
      " 6   table       53940 non-null  float64\n",
      " 7   price       53940 non-null  int64  \n",
      " 8   x           53940 non-null  float64\n",
      " 9   y           53940 non-null  float64\n",
      " 10  z           53940 non-null  float64\n",
      "dtypes: float64(6), int64(2), object(3)\n",
      "memory usage: 4.5+ MB\n"
     ]
    }
   ],
   "source": [
    "df = pd.read_csv(\"../input/diamonds/diamonds.csv\")\n",
    "df.info()"
   ]
  },
  {
   "cell_type": "markdown",
   "id": "c5f8d326",
   "metadata": {
    "papermill": {
     "duration": 0.017668,
     "end_time": "2022-09-20T11:51:45.297802",
     "exception": false,
     "start_time": "2022-09-20T11:51:45.280134",
     "status": "completed"
    },
    "pycharm": {
     "name": "#%% md\n"
    },
    "tags": []
   },
   "source": [
    "price : price in US dollars \n",
    "\n",
    "carat : weight of the diamond \n",
    "\n",
    "cut : quality of the cut (Fair, Good, Very Good, Premium, Ideal)\n",
    "\n",
    "color : diamond colour, from J (worst) to D (best)\n",
    "\n",
    "clarity : a measurement of how clear the diamond is (I1 (worst), SI2, SI1, VS2, VS1, VVS2, VVS1, IF (best))\n",
    "\n",
    "x : length in mm \n",
    "\n",
    "y : width in mm \n",
    "\n",
    "z : depth in mm \n",
    "\n",
    "depth : total depth percentage = z / mean(x, y) = 2 * z / (x + y)\n",
    "\n",
    "table : width of top of diamond relative to widest point"
   ]
  },
  {
   "cell_type": "code",
   "execution_count": 3,
   "id": "30d2a0a6",
   "metadata": {
    "execution": {
     "iopub.execute_input": "2022-09-20T11:51:45.334632Z",
     "iopub.status.busy": "2022-09-20T11:51:45.333639Z",
     "iopub.status.idle": "2022-09-20T11:51:45.346155Z",
     "shell.execute_reply": "2022-09-20T11:51:45.345042Z"
    },
    "papermill": {
     "duration": 0.034489,
     "end_time": "2022-09-20T11:51:45.349205",
     "exception": false,
     "start_time": "2022-09-20T11:51:45.314716",
     "status": "completed"
    },
    "pycharm": {
     "name": "#%%\n"
    },
    "tags": []
   },
   "outputs": [],
   "source": [
    "# Dropping Un-Required Columns \n",
    "\n",
    "df.drop('Unnamed: 0', axis=1, inplace=True)"
   ]
  },
  {
   "cell_type": "code",
   "execution_count": 4,
   "id": "60104d58",
   "metadata": {
    "execution": {
     "iopub.execute_input": "2022-09-20T11:51:45.386687Z",
     "iopub.status.busy": "2022-09-20T11:51:45.385474Z",
     "iopub.status.idle": "2022-09-20T11:51:45.450320Z",
     "shell.execute_reply": "2022-09-20T11:51:45.449058Z"
    },
    "papermill": {
     "duration": 0.087115,
     "end_time": "2022-09-20T11:51:45.453213",
     "exception": false,
     "start_time": "2022-09-20T11:51:45.366098",
     "status": "completed"
    },
    "pycharm": {
     "name": "#%%\n"
    },
    "scrolled": true,
    "tags": []
   },
   "outputs": [
    {
     "data": {
      "text/html": [
       "<div>\n",
       "<style scoped>\n",
       "    .dataframe tbody tr th:only-of-type {\n",
       "        vertical-align: middle;\n",
       "    }\n",
       "\n",
       "    .dataframe tbody tr th {\n",
       "        vertical-align: top;\n",
       "    }\n",
       "\n",
       "    .dataframe thead th {\n",
       "        text-align: right;\n",
       "    }\n",
       "</style>\n",
       "<table border=\"1\" class=\"dataframe\">\n",
       "  <thead>\n",
       "    <tr style=\"text-align: right;\">\n",
       "      <th></th>\n",
       "      <th>carat</th>\n",
       "      <th>depth</th>\n",
       "      <th>table</th>\n",
       "      <th>price</th>\n",
       "      <th>x</th>\n",
       "      <th>y</th>\n",
       "      <th>z</th>\n",
       "    </tr>\n",
       "  </thead>\n",
       "  <tbody>\n",
       "    <tr>\n",
       "      <th>count</th>\n",
       "      <td>53940.000000</td>\n",
       "      <td>53940.000000</td>\n",
       "      <td>53940.000000</td>\n",
       "      <td>53940.000000</td>\n",
       "      <td>53940.000000</td>\n",
       "      <td>53940.000000</td>\n",
       "      <td>53940.000000</td>\n",
       "    </tr>\n",
       "    <tr>\n",
       "      <th>mean</th>\n",
       "      <td>0.797940</td>\n",
       "      <td>61.749405</td>\n",
       "      <td>57.457184</td>\n",
       "      <td>3932.799722</td>\n",
       "      <td>5.731157</td>\n",
       "      <td>5.734526</td>\n",
       "      <td>3.538734</td>\n",
       "    </tr>\n",
       "    <tr>\n",
       "      <th>std</th>\n",
       "      <td>0.474011</td>\n",
       "      <td>1.432621</td>\n",
       "      <td>2.234491</td>\n",
       "      <td>3989.439738</td>\n",
       "      <td>1.121761</td>\n",
       "      <td>1.142135</td>\n",
       "      <td>0.705699</td>\n",
       "    </tr>\n",
       "    <tr>\n",
       "      <th>min</th>\n",
       "      <td>0.200000</td>\n",
       "      <td>43.000000</td>\n",
       "      <td>43.000000</td>\n",
       "      <td>326.000000</td>\n",
       "      <td>0.000000</td>\n",
       "      <td>0.000000</td>\n",
       "      <td>0.000000</td>\n",
       "    </tr>\n",
       "    <tr>\n",
       "      <th>25%</th>\n",
       "      <td>0.400000</td>\n",
       "      <td>61.000000</td>\n",
       "      <td>56.000000</td>\n",
       "      <td>950.000000</td>\n",
       "      <td>4.710000</td>\n",
       "      <td>4.720000</td>\n",
       "      <td>2.910000</td>\n",
       "    </tr>\n",
       "    <tr>\n",
       "      <th>50%</th>\n",
       "      <td>0.700000</td>\n",
       "      <td>61.800000</td>\n",
       "      <td>57.000000</td>\n",
       "      <td>2401.000000</td>\n",
       "      <td>5.700000</td>\n",
       "      <td>5.710000</td>\n",
       "      <td>3.530000</td>\n",
       "    </tr>\n",
       "    <tr>\n",
       "      <th>75%</th>\n",
       "      <td>1.040000</td>\n",
       "      <td>62.500000</td>\n",
       "      <td>59.000000</td>\n",
       "      <td>5324.250000</td>\n",
       "      <td>6.540000</td>\n",
       "      <td>6.540000</td>\n",
       "      <td>4.040000</td>\n",
       "    </tr>\n",
       "    <tr>\n",
       "      <th>max</th>\n",
       "      <td>5.010000</td>\n",
       "      <td>79.000000</td>\n",
       "      <td>95.000000</td>\n",
       "      <td>18823.000000</td>\n",
       "      <td>10.740000</td>\n",
       "      <td>58.900000</td>\n",
       "      <td>31.800000</td>\n",
       "    </tr>\n",
       "  </tbody>\n",
       "</table>\n",
       "</div>"
      ],
      "text/plain": [
       "              carat         depth         table         price             x  \\\n",
       "count  53940.000000  53940.000000  53940.000000  53940.000000  53940.000000   \n",
       "mean       0.797940     61.749405     57.457184   3932.799722      5.731157   \n",
       "std        0.474011      1.432621      2.234491   3989.439738      1.121761   \n",
       "min        0.200000     43.000000     43.000000    326.000000      0.000000   \n",
       "25%        0.400000     61.000000     56.000000    950.000000      4.710000   \n",
       "50%        0.700000     61.800000     57.000000   2401.000000      5.700000   \n",
       "75%        1.040000     62.500000     59.000000   5324.250000      6.540000   \n",
       "max        5.010000     79.000000     95.000000  18823.000000     10.740000   \n",
       "\n",
       "                  y             z  \n",
       "count  53940.000000  53940.000000  \n",
       "mean       5.734526      3.538734  \n",
       "std        1.142135      0.705699  \n",
       "min        0.000000      0.000000  \n",
       "25%        4.720000      2.910000  \n",
       "50%        5.710000      3.530000  \n",
       "75%        6.540000      4.040000  \n",
       "max       58.900000     31.800000  "
      ]
     },
     "execution_count": 4,
     "metadata": {},
     "output_type": "execute_result"
    }
   ],
   "source": [
    "df.describe()"
   ]
  },
  {
   "cell_type": "markdown",
   "id": "45200ef2",
   "metadata": {
    "papermill": {
     "duration": 0.016307,
     "end_time": "2022-09-20T11:51:45.487525",
     "exception": false,
     "start_time": "2022-09-20T11:51:45.471218",
     "status": "completed"
    },
    "tags": []
   },
   "source": [
    "###### Removing zeroes from x,y and z as it represents length, width and hieght"
   ]
  },
  {
   "cell_type": "code",
   "execution_count": 5,
   "id": "f6a83a15",
   "metadata": {
    "execution": {
     "iopub.execute_input": "2022-09-20T11:51:45.527733Z",
     "iopub.status.busy": "2022-09-20T11:51:45.527330Z",
     "iopub.status.idle": "2022-09-20T11:51:45.565726Z",
     "shell.execute_reply": "2022-09-20T11:51:45.564106Z"
    },
    "papermill": {
     "duration": 0.061251,
     "end_time": "2022-09-20T11:51:45.569173",
     "exception": false,
     "start_time": "2022-09-20T11:51:45.507922",
     "status": "completed"
    },
    "tags": []
   },
   "outputs": [],
   "source": [
    "#filling nan inplace of zeroes\n",
    "df[['x', 'y', 'z']] = df[['x', 'y', 'z']].replace(0, np.NaN)\n",
    "\n",
    "# dropping those nan values\n",
    "df.dropna(inplace=True)"
   ]
  },
  {
   "cell_type": "code",
   "execution_count": 6,
   "id": "e01272c1",
   "metadata": {
    "execution": {
     "iopub.execute_input": "2022-09-20T11:51:45.615915Z",
     "iopub.status.busy": "2022-09-20T11:51:45.614435Z",
     "iopub.status.idle": "2022-09-20T11:51:45.664187Z",
     "shell.execute_reply": "2022-09-20T11:51:45.662886Z"
    },
    "papermill": {
     "duration": 0.075817,
     "end_time": "2022-09-20T11:51:45.666820",
     "exception": false,
     "start_time": "2022-09-20T11:51:45.591003",
     "status": "completed"
    },
    "tags": []
   },
   "outputs": [
    {
     "data": {
      "text/html": [
       "<div>\n",
       "<style scoped>\n",
       "    .dataframe tbody tr th:only-of-type {\n",
       "        vertical-align: middle;\n",
       "    }\n",
       "\n",
       "    .dataframe tbody tr th {\n",
       "        vertical-align: top;\n",
       "    }\n",
       "\n",
       "    .dataframe thead th {\n",
       "        text-align: right;\n",
       "    }\n",
       "</style>\n",
       "<table border=\"1\" class=\"dataframe\">\n",
       "  <thead>\n",
       "    <tr style=\"text-align: right;\">\n",
       "      <th></th>\n",
       "      <th>carat</th>\n",
       "      <th>depth</th>\n",
       "      <th>table</th>\n",
       "      <th>price</th>\n",
       "      <th>x</th>\n",
       "      <th>y</th>\n",
       "      <th>z</th>\n",
       "    </tr>\n",
       "  </thead>\n",
       "  <tbody>\n",
       "    <tr>\n",
       "      <th>count</th>\n",
       "      <td>53920.000000</td>\n",
       "      <td>53920.000000</td>\n",
       "      <td>53920.000000</td>\n",
       "      <td>53920.000000</td>\n",
       "      <td>53920.000000</td>\n",
       "      <td>53920.000000</td>\n",
       "      <td>53920.000000</td>\n",
       "    </tr>\n",
       "    <tr>\n",
       "      <th>mean</th>\n",
       "      <td>0.797698</td>\n",
       "      <td>61.749514</td>\n",
       "      <td>57.456834</td>\n",
       "      <td>3930.993231</td>\n",
       "      <td>5.731627</td>\n",
       "      <td>5.734887</td>\n",
       "      <td>3.540046</td>\n",
       "    </tr>\n",
       "    <tr>\n",
       "      <th>std</th>\n",
       "      <td>0.473795</td>\n",
       "      <td>1.432331</td>\n",
       "      <td>2.234064</td>\n",
       "      <td>3987.280446</td>\n",
       "      <td>1.119423</td>\n",
       "      <td>1.140126</td>\n",
       "      <td>0.702530</td>\n",
       "    </tr>\n",
       "    <tr>\n",
       "      <th>min</th>\n",
       "      <td>0.200000</td>\n",
       "      <td>43.000000</td>\n",
       "      <td>43.000000</td>\n",
       "      <td>326.000000</td>\n",
       "      <td>3.730000</td>\n",
       "      <td>3.680000</td>\n",
       "      <td>1.070000</td>\n",
       "    </tr>\n",
       "    <tr>\n",
       "      <th>25%</th>\n",
       "      <td>0.400000</td>\n",
       "      <td>61.000000</td>\n",
       "      <td>56.000000</td>\n",
       "      <td>949.000000</td>\n",
       "      <td>4.710000</td>\n",
       "      <td>4.720000</td>\n",
       "      <td>2.910000</td>\n",
       "    </tr>\n",
       "    <tr>\n",
       "      <th>50%</th>\n",
       "      <td>0.700000</td>\n",
       "      <td>61.800000</td>\n",
       "      <td>57.000000</td>\n",
       "      <td>2401.000000</td>\n",
       "      <td>5.700000</td>\n",
       "      <td>5.710000</td>\n",
       "      <td>3.530000</td>\n",
       "    </tr>\n",
       "    <tr>\n",
       "      <th>75%</th>\n",
       "      <td>1.040000</td>\n",
       "      <td>62.500000</td>\n",
       "      <td>59.000000</td>\n",
       "      <td>5323.250000</td>\n",
       "      <td>6.540000</td>\n",
       "      <td>6.540000</td>\n",
       "      <td>4.040000</td>\n",
       "    </tr>\n",
       "    <tr>\n",
       "      <th>max</th>\n",
       "      <td>5.010000</td>\n",
       "      <td>79.000000</td>\n",
       "      <td>95.000000</td>\n",
       "      <td>18823.000000</td>\n",
       "      <td>10.740000</td>\n",
       "      <td>58.900000</td>\n",
       "      <td>31.800000</td>\n",
       "    </tr>\n",
       "  </tbody>\n",
       "</table>\n",
       "</div>"
      ],
      "text/plain": [
       "              carat         depth         table         price             x  \\\n",
       "count  53920.000000  53920.000000  53920.000000  53920.000000  53920.000000   \n",
       "mean       0.797698     61.749514     57.456834   3930.993231      5.731627   \n",
       "std        0.473795      1.432331      2.234064   3987.280446      1.119423   \n",
       "min        0.200000     43.000000     43.000000    326.000000      3.730000   \n",
       "25%        0.400000     61.000000     56.000000    949.000000      4.710000   \n",
       "50%        0.700000     61.800000     57.000000   2401.000000      5.700000   \n",
       "75%        1.040000     62.500000     59.000000   5323.250000      6.540000   \n",
       "max        5.010000     79.000000     95.000000  18823.000000     10.740000   \n",
       "\n",
       "                  y             z  \n",
       "count  53920.000000  53920.000000  \n",
       "mean       5.734887      3.540046  \n",
       "std        1.140126      0.702530  \n",
       "min        3.680000      1.070000  \n",
       "25%        4.720000      2.910000  \n",
       "50%        5.710000      3.530000  \n",
       "75%        6.540000      4.040000  \n",
       "max       58.900000     31.800000  "
      ]
     },
     "execution_count": 6,
     "metadata": {},
     "output_type": "execute_result"
    }
   ],
   "source": [
    "df.describe()"
   ]
  },
  {
   "cell_type": "markdown",
   "id": "db76d151",
   "metadata": {
    "papermill": {
     "duration": 0.016822,
     "end_time": "2022-09-20T11:51:45.700863",
     "exception": false,
     "start_time": "2022-09-20T11:51:45.684041",
     "status": "completed"
    },
    "tags": []
   },
   "source": [
    "#### Removing outliers via IQR"
   ]
  },
  {
   "cell_type": "code",
   "execution_count": 7,
   "id": "b54dcf12",
   "metadata": {
    "execution": {
     "iopub.execute_input": "2022-09-20T11:51:45.736765Z",
     "iopub.status.busy": "2022-09-20T11:51:45.736005Z",
     "iopub.status.idle": "2022-09-20T11:51:45.742314Z",
     "shell.execute_reply": "2022-09-20T11:51:45.741506Z"
    },
    "papermill": {
     "duration": 0.027364,
     "end_time": "2022-09-20T11:51:45.744430",
     "exception": false,
     "start_time": "2022-09-20T11:51:45.717066",
     "status": "completed"
    },
    "tags": []
   },
   "outputs": [],
   "source": [
    "def outliers_iqr(df, feat):\n",
    "    q25, q75 = np.percentile(df[feat], q=[25, 75])\n",
    "    iqr = q75 - q25\n",
    "    upp_lmt = q75 + iqr*1.45\n",
    "    lwr_lmt = q25 - iqr*1.45\n",
    "    return df[(df[feat] > upp_lmt) | (df[feat] < lwr_lmt)].index.to_list()"
   ]
  },
  {
   "cell_type": "markdown",
   "id": "1ed55da4",
   "metadata": {
    "papermill": {
     "duration": 0.017808,
     "end_time": "2022-09-20T11:51:45.779598",
     "exception": false,
     "start_time": "2022-09-20T11:51:45.761790",
     "status": "completed"
    },
    "tags": []
   },
   "source": [
    "##### Carat"
   ]
  },
  {
   "cell_type": "code",
   "execution_count": 8,
   "id": "784c0780",
   "metadata": {
    "execution": {
     "iopub.execute_input": "2022-09-20T11:51:45.818017Z",
     "iopub.status.busy": "2022-09-20T11:51:45.817225Z",
     "iopub.status.idle": "2022-09-20T11:51:46.045230Z",
     "shell.execute_reply": "2022-09-20T11:51:46.043664Z"
    },
    "papermill": {
     "duration": 0.250274,
     "end_time": "2022-09-20T11:51:46.047987",
     "exception": false,
     "start_time": "2022-09-20T11:51:45.797713",
     "status": "completed"
    },
    "tags": []
   },
   "outputs": [
    {
     "data": {
      "text/plain": [
       "<AxesSubplot:xlabel='carat'>"
      ]
     },
     "execution_count": 8,
     "metadata": {},
     "output_type": "execute_result"
    },
    {
     "data": {
      "image/png": "[encoded data removed]",
      "text/plain": [
       "<Figure size 432x288 with 1 Axes>"
      ]
     },
     "metadata": {
      "needs_background": "light"
     },
     "output_type": "display_data"
    }
   ],
   "source": [
    "sns.boxplot(x=df['carat'])"
   ]
  },
  {
   "cell_type": "code",
   "execution_count": 9,
   "id": "aaea9274",
   "metadata": {
    "execution": {
     "iopub.execute_input": "2022-09-20T11:51:46.083230Z",
     "iopub.status.busy": "2022-09-20T11:51:46.082699Z",
     "iopub.status.idle": "2022-09-20T11:51:46.100800Z",
     "shell.execute_reply": "2022-09-20T11:51:46.099518Z"
    },
    "papermill": {
     "duration": 0.039265,
     "end_time": "2022-09-20T11:51:46.103908",
     "exception": false,
     "start_time": "2022-09-20T11:51:46.064643",
     "status": "completed"
    },
    "tags": []
   },
   "outputs": [],
   "source": [
    "df.drop(outliers_iqr(df, 'carat'), inplace=True)"
   ]
  },
  {
   "cell_type": "code",
   "execution_count": 10,
   "id": "a3e01396",
   "metadata": {
    "execution": {
     "iopub.execute_input": "2022-09-20T11:51:46.139295Z",
     "iopub.status.busy": "2022-09-20T11:51:46.138422Z",
     "iopub.status.idle": "2022-09-20T11:51:46.337240Z",
     "shell.execute_reply": "2022-09-20T11:51:46.335923Z"
    },
    "papermill": {
     "duration": 0.219209,
     "end_time": "2022-09-20T11:51:46.339665",
     "exception": false,
     "start_time": "2022-09-20T11:51:46.120456",
     "status": "completed"
    },
    "scrolled": true,
    "tags": []
   },
   "outputs": [
    {
     "data": {
      "text/plain": [
       "<AxesSubplot:xlabel='carat'>"
      ]
     },
     "execution_count": 10,
     "metadata": {},
     "output_type": "execute_result"
    },
    {
     "data": {
      "image/png": "[encoded data removed]",
      "text/plain": [
       "<Figure size 432x288 with 1 Axes>"
      ]
     },
     "metadata": {
      "needs_background": "light"
     },
     "output_type": "display_data"
    }
   ],
   "source": [
    "sns.boxplot(x=df['carat'])"
   ]
  },
  {
   "cell_type": "markdown",
   "id": "0ae4612e",
   "metadata": {
    "papermill": {
     "duration": 0.017037,
     "end_time": "2022-09-20T11:51:46.373695",
     "exception": false,
     "start_time": "2022-09-20T11:51:46.356658",
     "status": "completed"
    },
    "tags": []
   },
   "source": [
    "##### depth"
   ]
  },
  {
   "cell_type": "code",
   "execution_count": 11,
   "id": "f2d6e081",
   "metadata": {
    "execution": {
     "iopub.execute_input": "2022-09-20T11:51:46.409833Z",
     "iopub.status.busy": "2022-09-20T11:51:46.409455Z",
     "iopub.status.idle": "2022-09-20T11:51:46.617134Z",
     "shell.execute_reply": "2022-09-20T11:51:46.616160Z"
    },
    "papermill": {
     "duration": 0.228332,
     "end_time": "2022-09-20T11:51:46.619595",
     "exception": false,
     "start_time": "2022-09-20T11:51:46.391263",
     "status": "completed"
    },
    "tags": []
   },
   "outputs": [
    {
     "data": {
      "text/plain": [
       "<AxesSubplot:xlabel='depth'>"
      ]
     },
     "execution_count": 11,
     "metadata": {},
     "output_type": "execute_result"
    },
    {
     "data": {
      "image/png": "[encoded data removed]",
      "text/plain": [
       "<Figure size 432x288 with 1 Axes>"
      ]
     },
     "metadata": {
      "needs_background": "light"
     },
     "output_type": "display_data"
    }
   ],
   "source": [
    "sns.boxplot(x=df['depth'])"
   ]
  },
  {
   "cell_type": "code",
   "execution_count": 12,
   "id": "be96b96e",
   "metadata": {
    "execution": {
     "iopub.execute_input": "2022-09-20T11:51:46.655574Z",
     "iopub.status.busy": "2022-09-20T11:51:46.655154Z",
     "iopub.status.idle": "2022-09-20T11:51:46.673658Z",
     "shell.execute_reply": "2022-09-20T11:51:46.672245Z"
    },
    "papermill": {
     "duration": 0.039868,
     "end_time": "2022-09-20T11:51:46.676546",
     "exception": false,
     "start_time": "2022-09-20T11:51:46.636678",
     "status": "completed"
    },
    "tags": []
   },
   "outputs": [],
   "source": [
    "df.drop(outliers_iqr(df, 'depth'), inplace=True)"
   ]
  },
  {
   "cell_type": "code",
   "execution_count": 13,
   "id": "323ca304",
   "metadata": {
    "execution": {
     "iopub.execute_input": "2022-09-20T11:51:46.714270Z",
     "iopub.status.busy": "2022-09-20T11:51:46.713384Z",
     "iopub.status.idle": "2022-09-20T11:51:46.904593Z",
     "shell.execute_reply": "2022-09-20T11:51:46.903016Z"
    },
    "papermill": {
     "duration": 0.212827,
     "end_time": "2022-09-20T11:51:46.907254",
     "exception": false,
     "start_time": "2022-09-20T11:51:46.694427",
     "status": "completed"
    },
    "tags": []
   },
   "outputs": [
    {
     "data": {
      "text/plain": [
       "<AxesSubplot:xlabel='depth'>"
      ]
     },
     "execution_count": 13,
     "metadata": {},
     "output_type": "execute_result"
    },
    {
     "data": {
      "image/png": "[encoded data removed]",
      "text/plain": [
       "<Figure size 432x288 with 1 Axes>"
      ]
     },
     "metadata": {
      "needs_background": "light"
     },
     "output_type": "display_data"
    }
   ],
   "source": [
    "sns.boxplot(x=df['depth'])"
   ]
  },
  {
   "cell_type": "markdown",
   "id": "b341519a",
   "metadata": {
    "papermill": {
     "duration": 0.018399,
     "end_time": "2022-09-20T11:51:46.943561",
     "exception": false,
     "start_time": "2022-09-20T11:51:46.925162",
     "status": "completed"
    },
    "tags": []
   },
   "source": [
    "##### table"
   ]
  },
  {
   "cell_type": "code",
   "execution_count": 14,
   "id": "5fb0ce0e",
   "metadata": {
    "execution": {
     "iopub.execute_input": "2022-09-20T11:51:46.980241Z",
     "iopub.status.busy": "2022-09-20T11:51:46.979779Z",
     "iopub.status.idle": "2022-09-20T11:51:47.178295Z",
     "shell.execute_reply": "2022-09-20T11:51:47.176850Z"
    },
    "papermill": {
     "duration": 0.220973,
     "end_time": "2022-09-20T11:51:47.182034",
     "exception": false,
     "start_time": "2022-09-20T11:51:46.961061",
     "status": "completed"
    },
    "tags": []
   },
   "outputs": [
    {
     "data": {
      "text/plain": [
       "<AxesSubplot:xlabel='table'>"
      ]
     },
     "execution_count": 14,
     "metadata": {},
     "output_type": "execute_result"
    },
    {
     "data": {
      "image/png": "[encoded data removed]",
      "text/plain": [
       "<Figure size 432x288 with 1 Axes>"
      ]
     },
     "metadata": {
      "needs_background": "light"
     },
     "output_type": "display_data"
    }
   ],
   "source": [
    "sns.boxplot(x=df['table'])"
   ]
  },
  {
   "cell_type": "code",
   "execution_count": 15,
   "id": "98d1de0d",
   "metadata": {
    "execution": {
     "iopub.execute_input": "2022-09-20T11:51:47.224407Z",
     "iopub.status.busy": "2022-09-20T11:51:47.223996Z",
     "iopub.status.idle": "2022-09-20T11:51:47.239533Z",
     "shell.execute_reply": "2022-09-20T11:51:47.238170Z"
    },
    "papermill": {
     "duration": 0.040501,
     "end_time": "2022-09-20T11:51:47.242721",
     "exception": false,
     "start_time": "2022-09-20T11:51:47.202220",
     "status": "completed"
    },
    "tags": []
   },
   "outputs": [],
   "source": [
    "df.drop(outliers_iqr(df, 'table'), inplace=True)"
   ]
  },
  {
   "cell_type": "code",
   "execution_count": 16,
   "id": "b0687c47",
   "metadata": {
    "execution": {
     "iopub.execute_input": "2022-09-20T11:51:47.282810Z",
     "iopub.status.busy": "2022-09-20T11:51:47.282308Z",
     "iopub.status.idle": "2022-09-20T11:51:47.467533Z",
     "shell.execute_reply": "2022-09-20T11:51:47.466432Z"
    },
    "papermill": {
     "duration": 0.208524,
     "end_time": "2022-09-20T11:51:47.470310",
     "exception": false,
     "start_time": "2022-09-20T11:51:47.261786",
     "status": "completed"
    },
    "tags": []
   },
   "outputs": [
    {
     "data": {
      "text/plain": [
       "<AxesSubplot:xlabel='table'>"
      ]
     },
     "execution_count": 16,
     "metadata": {},
     "output_type": "execute_result"
    },
    {
     "data": {
      "image/png": "[encoded data removed]",
      "text/plain": [
       "<Figure size 432x288 with 1 Axes>"
      ]
     },
     "metadata": {
      "needs_background": "light"
     },
     "output_type": "display_data"
    }
   ],
   "source": [
    "sns.boxplot(x=df['table'])"
   ]
  },
  {
   "cell_type": "markdown",
   "id": "a0b0b490",
   "metadata": {
    "papermill": {
     "duration": 0.019793,
     "end_time": "2022-09-20T11:51:47.510547",
     "exception": false,
     "start_time": "2022-09-20T11:51:47.490754",
     "status": "completed"
    },
    "tags": []
   },
   "source": [
    "##### x"
   ]
  },
  {
   "cell_type": "code",
   "execution_count": 17,
   "id": "a09f4d3b",
   "metadata": {
    "execution": {
     "iopub.execute_input": "2022-09-20T11:51:47.552873Z",
     "iopub.status.busy": "2022-09-20T11:51:47.552480Z",
     "iopub.status.idle": "2022-09-20T11:51:47.726903Z",
     "shell.execute_reply": "2022-09-20T11:51:47.726065Z"
    },
    "papermill": {
     "duration": 0.197666,
     "end_time": "2022-09-20T11:51:47.729279",
     "exception": false,
     "start_time": "2022-09-20T11:51:47.531613",
     "status": "completed"
    },
    "tags": []
   },
   "outputs": [
    {
     "data": {
      "text/plain": [
       "<AxesSubplot:xlabel='x'>"
      ]
     },
     "execution_count": 17,
     "metadata": {},
     "output_type": "execute_result"
    },
    {
     "data": {
      "image/png": "[encoded data removed]",
      "text/plain": [
       "<Figure size 432x288 with 1 Axes>"
      ]
     },
     "metadata": {
      "needs_background": "light"
     },
     "output_type": "display_data"
    }
   ],
   "source": [
    "sns.boxplot(x=df['x'])"
   ]
  },
  {
   "cell_type": "code",
   "execution_count": 18,
   "id": "fd7779bf",
   "metadata": {
    "execution": {
     "iopub.execute_input": "2022-09-20T11:51:47.771324Z",
     "iopub.status.busy": "2022-09-20T11:51:47.770478Z",
     "iopub.status.idle": "2022-09-20T11:51:47.786701Z",
     "shell.execute_reply": "2022-09-20T11:51:47.785510Z"
    },
    "papermill": {
     "duration": 0.040799,
     "end_time": "2022-09-20T11:51:47.789658",
     "exception": false,
     "start_time": "2022-09-20T11:51:47.748859",
     "status": "completed"
    },
    "tags": []
   },
   "outputs": [],
   "source": [
    "df.drop(outliers_iqr(df, 'x'), inplace=True)"
   ]
  },
  {
   "cell_type": "code",
   "execution_count": 19,
   "id": "5ada1f60",
   "metadata": {
    "execution": {
     "iopub.execute_input": "2022-09-20T11:51:47.829153Z",
     "iopub.status.busy": "2022-09-20T11:51:47.828458Z",
     "iopub.status.idle": "2022-09-20T11:51:48.009139Z",
     "shell.execute_reply": "2022-09-20T11:51:48.007911Z"
    },
    "papermill": {
     "duration": 0.203415,
     "end_time": "2022-09-20T11:51:48.011678",
     "exception": false,
     "start_time": "2022-09-20T11:51:47.808263",
     "status": "completed"
    },
    "tags": []
   },
   "outputs": [
    {
     "data": {
      "text/plain": [
       "<AxesSubplot:xlabel='x'>"
      ]
     },
     "execution_count": 19,
     "metadata": {},
     "output_type": "execute_result"
    },
    {
     "data": {
      "image/png": "[encoded data removed]",
      "text/plain": [
       "<Figure size 432x288 with 1 Axes>"
      ]
     },
     "metadata": {
      "needs_background": "light"
     },
     "output_type": "display_data"
    }
   ],
   "source": [
    "sns.boxplot(x=df['x'])"
   ]
  },
  {
   "cell_type": "markdown",
   "id": "e62f9e41",
   "metadata": {
    "papermill": {
     "duration": 0.01822,
     "end_time": "2022-09-20T11:51:48.048905",
     "exception": false,
     "start_time": "2022-09-20T11:51:48.030685",
     "status": "completed"
    },
    "tags": []
   },
   "source": [
    "##### y"
   ]
  },
  {
   "cell_type": "code",
   "execution_count": 20,
   "id": "53a51ae6",
   "metadata": {
    "execution": {
     "iopub.execute_input": "2022-09-20T11:51:48.087940Z",
     "iopub.status.busy": "2022-09-20T11:51:48.087530Z",
     "iopub.status.idle": "2022-09-20T11:51:48.283287Z",
     "shell.execute_reply": "2022-09-20T11:51:48.282016Z"
    },
    "papermill": {
     "duration": 0.218223,
     "end_time": "2022-09-20T11:51:48.285830",
     "exception": false,
     "start_time": "2022-09-20T11:51:48.067607",
     "status": "completed"
    },
    "tags": []
   },
   "outputs": [
    {
     "data": {
      "text/plain": [
       "<AxesSubplot:xlabel='y'>"
      ]
     },
     "execution_count": 20,
     "metadata": {},
     "output_type": "execute_result"
    },
    {
     "data": {
      "image/png": "[encoded data removed]",
      "text/plain": [
       "<Figure size 432x288 with 1 Axes>"
      ]
     },
     "metadata": {
      "needs_background": "light"
     },
     "output_type": "display_data"
    }
   ],
   "source": [
    "sns.boxplot(x=df['y'])"
   ]
  },
  {
   "cell_type": "code",
   "execution_count": 21,
   "id": "eeb97c53",
   "metadata": {
    "execution": {
     "iopub.execute_input": "2022-09-20T11:51:48.325660Z",
     "iopub.status.busy": "2022-09-20T11:51:48.325299Z",
     "iopub.status.idle": "2022-09-20T11:51:48.339652Z",
     "shell.execute_reply": "2022-09-20T11:51:48.338225Z"
    },
    "papermill": {
     "duration": 0.037583,
     "end_time": "2022-09-20T11:51:48.342613",
     "exception": false,
     "start_time": "2022-09-20T11:51:48.305030",
     "status": "completed"
    },
    "tags": []
   },
   "outputs": [],
   "source": [
    "df.drop(outliers_iqr(df, 'y'), inplace=True)"
   ]
  },
  {
   "cell_type": "code",
   "execution_count": 22,
   "id": "a9a8c710",
   "metadata": {
    "execution": {
     "iopub.execute_input": "2022-09-20T11:51:48.383643Z",
     "iopub.status.busy": "2022-09-20T11:51:48.383100Z",
     "iopub.status.idle": "2022-09-20T11:51:48.569913Z",
     "shell.execute_reply": "2022-09-20T11:51:48.568607Z"
    },
    "papermill": {
     "duration": 0.211095,
     "end_time": "2022-09-20T11:51:48.572926",
     "exception": false,
     "start_time": "2022-09-20T11:51:48.361831",
     "status": "completed"
    },
    "tags": []
   },
   "outputs": [
    {
     "data": {
      "text/plain": [
       "<AxesSubplot:xlabel='y'>"
      ]
     },
     "execution_count": 22,
     "metadata": {},
     "output_type": "execute_result"
    },
    {
     "data": {
      "image/png": "[encoded data removed]",
      "text/plain": [
       "<Figure size 432x288 with 1 Axes>"
      ]
     },
     "metadata": {
      "needs_background": "light"
     },
     "output_type": "display_data"
    }
   ],
   "source": [
    "sns.boxplot(x=df['y'])"
   ]
  },
  {
   "cell_type": "markdown",
   "id": "541e9fc3",
   "metadata": {
    "papermill": {
     "duration": 0.021817,
     "end_time": "2022-09-20T11:51:48.616658",
     "exception": false,
     "start_time": "2022-09-20T11:51:48.594841",
     "status": "completed"
    },
    "tags": []
   },
   "source": [
    "##### z"
   ]
  },
  {
   "cell_type": "code",
   "execution_count": 23,
   "id": "ee1260df",
   "metadata": {
    "execution": {
     "iopub.execute_input": "2022-09-20T11:51:48.662775Z",
     "iopub.status.busy": "2022-09-20T11:51:48.661635Z",
     "iopub.status.idle": "2022-09-20T11:51:48.850306Z",
     "shell.execute_reply": "2022-09-20T11:51:48.849348Z"
    },
    "papermill": {
     "duration": 0.214329,
     "end_time": "2022-09-20T11:51:48.852839",
     "exception": false,
     "start_time": "2022-09-20T11:51:48.638510",
     "status": "completed"
    },
    "tags": []
   },
   "outputs": [
    {
     "data": {
      "text/plain": [
       "<AxesSubplot:xlabel='z'>"
      ]
     },
     "execution_count": 23,
     "metadata": {},
     "output_type": "execute_result"
    },
    {
     "data": {
      "image/png": "[encoded data removed]",
      "text/plain": [
       "<Figure size 432x288 with 1 Axes>"
      ]
     },
     "metadata": {
      "needs_background": "light"
     },
     "output_type": "display_data"
    }
   ],
   "source": [
    "sns.boxplot(x=df['z'])"
   ]
  },
  {
   "cell_type": "code",
   "execution_count": 24,
   "id": "13e69362",
   "metadata": {
    "execution": {
     "iopub.execute_input": "2022-09-20T11:51:48.901598Z",
     "iopub.status.busy": "2022-09-20T11:51:48.900726Z",
     "iopub.status.idle": "2022-09-20T11:51:48.915639Z",
     "shell.execute_reply": "2022-09-20T11:51:48.914646Z"
    },
    "papermill": {
     "duration": 0.044506,
     "end_time": "2022-09-20T11:51:48.919451",
     "exception": false,
     "start_time": "2022-09-20T11:51:48.874945",
     "status": "completed"
    },
    "tags": []
   },
   "outputs": [],
   "source": [
    "df.drop(outliers_iqr(df, 'z'), inplace=True)"
   ]
  },
  {
   "cell_type": "code",
   "execution_count": 25,
   "id": "7a72b1b0",
   "metadata": {
    "execution": {
     "iopub.execute_input": "2022-09-20T11:51:48.967327Z",
     "iopub.status.busy": "2022-09-20T11:51:48.966562Z",
     "iopub.status.idle": "2022-09-20T11:51:49.161258Z",
     "shell.execute_reply": "2022-09-20T11:51:49.159817Z"
    },
    "papermill": {
     "duration": 0.221538,
     "end_time": "2022-09-20T11:51:49.164144",
     "exception": false,
     "start_time": "2022-09-20T11:51:48.942606",
     "status": "completed"
    },
    "tags": []
   },
   "outputs": [
    {
     "data": {
      "text/plain": [
       "<AxesSubplot:xlabel='z'>"
      ]
     },
     "execution_count": 25,
     "metadata": {},
     "output_type": "execute_result"
    },
    {
     "data": {
      "image/png": "[encoded data removed]",
      "text/plain": [
       "<Figure size 432x288 with 1 Axes>"
      ]
     },
     "metadata": {
      "needs_background": "light"
     },
     "output_type": "display_data"
    }
   ],
   "source": [
    "sns.boxplot(x=df['z'])"
   ]
  },
  {
   "cell_type": "code",
   "execution_count": 26,
   "id": "b81d20dc",
   "metadata": {
    "execution": {
     "iopub.execute_input": "2022-09-20T11:51:49.212162Z",
     "iopub.status.busy": "2022-09-20T11:51:49.210761Z",
     "iopub.status.idle": "2022-09-20T11:51:49.257744Z",
     "shell.execute_reply": "2022-09-20T11:51:49.256490Z"
    },
    "papermill": {
     "duration": 0.0738,
     "end_time": "2022-09-20T11:51:49.260293",
     "exception": false,
     "start_time": "2022-09-20T11:51:49.186493",
     "status": "completed"
    },
    "scrolled": true,
    "tags": []
   },
   "outputs": [
    {
     "data": {
      "text/html": [
       "<div>\n",
       "<style scoped>\n",
       "    .dataframe tbody tr th:only-of-type {\n",
       "        vertical-align: middle;\n",
       "    }\n",
       "\n",
       "    .dataframe tbody tr th {\n",
       "        vertical-align: top;\n",
       "    }\n",
       "\n",
       "    .dataframe thead th {\n",
       "        text-align: right;\n",
       "    }\n",
       "</style>\n",
       "<table border=\"1\" class=\"dataframe\">\n",
       "  <thead>\n",
       "    <tr style=\"text-align: right;\">\n",
       "      <th></th>\n",
       "      <th>carat</th>\n",
       "      <th>depth</th>\n",
       "      <th>table</th>\n",
       "      <th>price</th>\n",
       "      <th>x</th>\n",
       "      <th>y</th>\n",
       "      <th>z</th>\n",
       "    </tr>\n",
       "  </thead>\n",
       "  <tbody>\n",
       "    <tr>\n",
       "      <th>count</th>\n",
       "      <td>48424.000000</td>\n",
       "      <td>48424.000000</td>\n",
       "      <td>48424.000000</td>\n",
       "      <td>48424.000000</td>\n",
       "      <td>48424.000000</td>\n",
       "      <td>48424.000000</td>\n",
       "      <td>48424.000000</td>\n",
       "    </tr>\n",
       "    <tr>\n",
       "      <th>mean</th>\n",
       "      <td>0.733410</td>\n",
       "      <td>61.803399</td>\n",
       "      <td>57.240119</td>\n",
       "      <td>3461.301070</td>\n",
       "      <td>5.600540</td>\n",
       "      <td>5.605497</td>\n",
       "      <td>3.462627</td>\n",
       "    </tr>\n",
       "    <tr>\n",
       "      <th>std</th>\n",
       "      <td>0.393191</td>\n",
       "      <td>1.060212</td>\n",
       "      <td>2.004498</td>\n",
       "      <td>3357.172412</td>\n",
       "      <td>1.016973</td>\n",
       "      <td>1.011434</td>\n",
       "      <td>0.628864</td>\n",
       "    </tr>\n",
       "    <tr>\n",
       "      <th>min</th>\n",
       "      <td>0.200000</td>\n",
       "      <td>59.100000</td>\n",
       "      <td>52.000000</td>\n",
       "      <td>326.000000</td>\n",
       "      <td>3.730000</td>\n",
       "      <td>3.680000</td>\n",
       "      <td>1.410000</td>\n",
       "    </tr>\n",
       "    <tr>\n",
       "      <th>25%</th>\n",
       "      <td>0.380000</td>\n",
       "      <td>61.200000</td>\n",
       "      <td>56.000000</td>\n",
       "      <td>906.000000</td>\n",
       "      <td>4.660000</td>\n",
       "      <td>4.670000</td>\n",
       "      <td>2.870000</td>\n",
       "    </tr>\n",
       "    <tr>\n",
       "      <th>50%</th>\n",
       "      <td>0.690000</td>\n",
       "      <td>61.900000</td>\n",
       "      <td>57.000000</td>\n",
       "      <td>2184.000000</td>\n",
       "      <td>5.590000</td>\n",
       "      <td>5.590000</td>\n",
       "      <td>3.450000</td>\n",
       "    </tr>\n",
       "    <tr>\n",
       "      <th>75%</th>\n",
       "      <td>1.020000</td>\n",
       "      <td>62.500000</td>\n",
       "      <td>59.000000</td>\n",
       "      <td>4916.000000</td>\n",
       "      <td>6.460000</td>\n",
       "      <td>6.460000</td>\n",
       "      <td>4.000000</td>\n",
       "    </tr>\n",
       "    <tr>\n",
       "      <th>max</th>\n",
       "      <td>1.960000</td>\n",
       "      <td>64.500000</td>\n",
       "      <td>63.300000</td>\n",
       "      <td>18806.000000</td>\n",
       "      <td>8.110000</td>\n",
       "      <td>8.210000</td>\n",
       "      <td>5.060000</td>\n",
       "    </tr>\n",
       "  </tbody>\n",
       "</table>\n",
       "</div>"
      ],
      "text/plain": [
       "              carat         depth         table         price             x  \\\n",
       "count  48424.000000  48424.000000  48424.000000  48424.000000  48424.000000   \n",
       "mean       0.733410     61.803399     57.240119   3461.301070      5.600540   \n",
       "std        0.393191      1.060212      2.004498   3357.172412      1.016973   \n",
       "min        0.200000     59.100000     52.000000    326.000000      3.730000   \n",
       "25%        0.380000     61.200000     56.000000    906.000000      4.660000   \n",
       "50%        0.690000     61.900000     57.000000   2184.000000      5.590000   \n",
       "75%        1.020000     62.500000     59.000000   4916.000000      6.460000   \n",
       "max        1.960000     64.500000     63.300000  18806.000000      8.110000   \n",
       "\n",
       "                  y             z  \n",
       "count  48424.000000  48424.000000  \n",
       "mean       5.605497      3.462627  \n",
       "std        1.011434      0.628864  \n",
       "min        3.680000      1.410000  \n",
       "25%        4.670000      2.870000  \n",
       "50%        5.590000      3.450000  \n",
       "75%        6.460000      4.000000  \n",
       "max        8.210000      5.060000  "
      ]
     },
     "execution_count": 26,
     "metadata": {},
     "output_type": "execute_result"
    }
   ],
   "source": [
    "df.describe()"
   ]
  },
  {
   "cell_type": "code",
   "execution_count": 27,
   "id": "8b3645e8",
   "metadata": {
    "execution": {
     "iopub.execute_input": "2022-09-20T11:51:49.305711Z",
     "iopub.status.busy": "2022-09-20T11:51:49.305349Z",
     "iopub.status.idle": "2022-09-20T11:51:49.314090Z",
     "shell.execute_reply": "2022-09-20T11:51:49.312782Z"
    },
    "papermill": {
     "duration": 0.035558,
     "end_time": "2022-09-20T11:51:49.316695",
     "exception": false,
     "start_time": "2022-09-20T11:51:49.281137",
     "status": "completed"
    },
    "pycharm": {
     "name": "#%%\n"
    },
    "scrolled": true,
    "tags": []
   },
   "outputs": [],
   "source": [
    "# Dividing Data into Independent Features And Dependent Features\n",
    "\n",
    "X = df.drop('price', axis=1)\n",
    "y = df['price']"
   ]
  },
  {
   "cell_type": "markdown",
   "id": "957e9096",
   "metadata": {
    "papermill": {
     "duration": 0.019351,
     "end_time": "2022-09-20T11:51:49.355944",
     "exception": false,
     "start_time": "2022-09-20T11:51:49.336593",
     "status": "completed"
    },
    "tags": []
   },
   "source": [
    "#### Data Visualization"
   ]
  },
  {
   "cell_type": "code",
   "execution_count": 28,
   "id": "a5e362f2",
   "metadata": {
    "execution": {
     "iopub.execute_input": "2022-09-20T11:51:49.399844Z",
     "iopub.status.busy": "2022-09-20T11:51:49.399473Z",
     "iopub.status.idle": "2022-09-20T11:51:49.861447Z",
     "shell.execute_reply": "2022-09-20T11:51:49.860184Z"
    },
    "papermill": {
     "duration": 0.487313,
     "end_time": "2022-09-20T11:51:49.864282",
     "exception": false,
     "start_time": "2022-09-20T11:51:49.376969",
     "status": "completed"
    },
    "tags": []
   },
   "outputs": [
    {
     "data": {
      "text/plain": [
       "<seaborn.axisgrid.FacetGrid at 0x7fcc480e3d10>"
      ]
     },
     "execution_count": 28,
     "metadata": {},
     "output_type": "execute_result"
    },
    {
     "data": {
      "image/png": "[encoded data removed]",
      "text/plain": [
       "<Figure size 360x360 with 1 Axes>"
      ]
     },
     "metadata": {
      "needs_background": "light"
     },
     "output_type": "display_data"
    }
   ],
   "source": [
    "sns.displot(data = df, x='carat', kind='hist')"
   ]
  },
  {
   "cell_type": "code",
   "execution_count": 29,
   "id": "ee5dc00e",
   "metadata": {
    "execution": {
     "iopub.execute_input": "2022-09-20T11:51:49.907844Z",
     "iopub.status.busy": "2022-09-20T11:51:49.907470Z",
     "iopub.status.idle": "2022-09-20T11:51:50.383229Z",
     "shell.execute_reply": "2022-09-20T11:51:50.381737Z"
    },
    "papermill": {
     "duration": 0.500926,
     "end_time": "2022-09-20T11:51:50.385922",
     "exception": false,
     "start_time": "2022-09-20T11:51:49.884996",
     "status": "completed"
    },
    "tags": []
   },
   "outputs": [
    {
     "data": {
      "text/plain": [
       "<seaborn.axisgrid.FacetGrid at 0x7fcc481e5ed0>"
      ]
     },
     "execution_count": 29,
     "metadata": {},
     "output_type": "execute_result"
    },
    {
     "data": {
      "image/png": "[encoded data removed]",
      "text/plain": [
       "<Figure size 360x360 with 1 Axes>"
      ]
     },
     "metadata": {
      "needs_background": "light"
     },
     "output_type": "display_data"
    }
   ],
   "source": [
    "sns.displot(data = df, x='depth', kind='hist')"
   ]
  },
  {
   "cell_type": "code",
   "execution_count": 30,
   "id": "0e9b3ff1",
   "metadata": {
    "execution": {
     "iopub.execute_input": "2022-09-20T11:51:50.430366Z",
     "iopub.status.busy": "2022-09-20T11:51:50.429959Z",
     "iopub.status.idle": "2022-09-20T11:51:50.897229Z",
     "shell.execute_reply": "2022-09-20T11:51:50.896150Z"
    },
    "papermill": {
     "duration": 0.493115,
     "end_time": "2022-09-20T11:51:50.899997",
     "exception": false,
     "start_time": "2022-09-20T11:51:50.406882",
     "status": "completed"
    },
    "tags": []
   },
   "outputs": [
    {
     "data": {
      "text/plain": [
       "<seaborn.axisgrid.FacetGrid at 0x7fcc4816a590>"
      ]
     },
     "execution_count": 30,
     "metadata": {},
     "output_type": "execute_result"
    },
    {
     "data": {
      "image/png": "[encoded data removed]",
      "text/plain": [
       "<Figure size 360x360 with 1 Axes>"
      ]
     },
     "metadata": {
      "needs_background": "light"
     },
     "output_type": "display_data"
    }
   ],
   "source": [
    "sns.displot(data = df, x='table', kind='hist')"
   ]
  },
  {
   "cell_type": "code",
   "execution_count": 31,
   "id": "90771603",
   "metadata": {
    "execution": {
     "iopub.execute_input": "2022-09-20T11:51:50.949471Z",
     "iopub.status.busy": "2022-09-20T11:51:50.949028Z",
     "iopub.status.idle": "2022-09-20T11:51:51.604754Z",
     "shell.execute_reply": "2022-09-20T11:51:51.603353Z"
    },
    "papermill": {
     "duration": 0.684757,
     "end_time": "2022-09-20T11:51:51.608138",
     "exception": false,
     "start_time": "2022-09-20T11:51:50.923381",
     "status": "completed"
    },
    "tags": []
   },
   "outputs": [
    {
     "data": {
      "text/plain": [
       "<seaborn.axisgrid.FacetGrid at 0x7fcc47d61e90>"
      ]
     },
     "execution_count": 31,
     "metadata": {},
     "output_type": "execute_result"
    },
    {
     "data": {
      "image/png": "[encoded data removed]",
      "text/plain": [
       "<Figure size 360x360 with 1 Axes>"
      ]
     },
     "metadata": {
      "needs_background": "light"
     },
     "output_type": "display_data"
    }
   ],
   "source": [
    "sns.displot(data = df, x='price', kind='hist')"
   ]
  },
  {
   "cell_type": "code",
   "execution_count": 32,
   "id": "2fcccd20",
   "metadata": {
    "execution": {
     "iopub.execute_input": "2022-09-20T11:51:51.654244Z",
     "iopub.status.busy": "2022-09-20T11:51:51.653591Z",
     "iopub.status.idle": "2022-09-20T11:51:52.089873Z",
     "shell.execute_reply": "2022-09-20T11:51:52.088423Z"
    },
    "papermill": {
     "duration": 0.461846,
     "end_time": "2022-09-20T11:51:52.092554",
     "exception": false,
     "start_time": "2022-09-20T11:51:51.630708",
     "status": "completed"
    },
    "tags": []
   },
   "outputs": [
    {
     "data": {
      "text/plain": [
       "<seaborn.axisgrid.FacetGrid at 0x7fcc47e1ed50>"
      ]
     },
     "execution_count": 32,
     "metadata": {},
     "output_type": "execute_result"
    },
    {
     "data": {
      "image/png": "[encoded data removed]",
      "text/plain": [
       "<Figure size 360x360 with 1 Axes>"
      ]
     },
     "metadata": {
      "needs_background": "light"
     },
     "output_type": "display_data"
    }
   ],
   "source": [
    "sns.displot(data = df, x='x', kind='hist')"
   ]
  },
  {
   "cell_type": "code",
   "execution_count": 33,
   "id": "c77bda23",
   "metadata": {
    "execution": {
     "iopub.execute_input": "2022-09-20T11:51:52.142373Z",
     "iopub.status.busy": "2022-09-20T11:51:52.141201Z",
     "iopub.status.idle": "2022-09-20T11:51:52.590655Z",
     "shell.execute_reply": "2022-09-20T11:51:52.589418Z"
    },
    "papermill": {
     "duration": 0.476307,
     "end_time": "2022-09-20T11:51:52.593390",
     "exception": false,
     "start_time": "2022-09-20T11:51:52.117083",
     "status": "completed"
    },
    "tags": []
   },
   "outputs": [
    {
     "data": {
      "text/plain": [
       "<seaborn.axisgrid.FacetGrid at 0x7fcc47e39fd0>"
      ]
     },
     "execution_count": 33,
     "metadata": {},
     "output_type": "execute_result"
    },
    {
     "data": {
      "image/png": "[encoded data removed]",
      "text/plain": [
       "<Figure size 360x360 with 1 Axes>"
      ]
     },
     "metadata": {
      "needs_background": "light"
     },
     "output_type": "display_data"
    }
   ],
   "source": [
    "sns.displot(data = df, x='y', kind='hist')"
   ]
  },
  {
   "cell_type": "code",
   "execution_count": 34,
   "id": "ab54837c",
   "metadata": {
    "execution": {
     "iopub.execute_input": "2022-09-20T11:51:52.642323Z",
     "iopub.status.busy": "2022-09-20T11:51:52.641869Z",
     "iopub.status.idle": "2022-09-20T11:51:53.112780Z",
     "shell.execute_reply": "2022-09-20T11:51:53.111337Z"
    },
    "papermill": {
     "duration": 0.499072,
     "end_time": "2022-09-20T11:51:53.115848",
     "exception": false,
     "start_time": "2022-09-20T11:51:52.616776",
     "status": "completed"
    },
    "tags": []
   },
   "outputs": [
    {
     "data": {
      "text/plain": [
       "<seaborn.axisgrid.FacetGrid at 0x7fcc47d36850>"
      ]
     },
     "execution_count": 34,
     "metadata": {},
     "output_type": "execute_result"
    },
    {
     "data": {
      "image/png": "[encoded data removed]",
      "text/plain": [
       "<Figure size 360x360 with 1 Axes>"
      ]
     },
     "metadata": {
      "needs_background": "light"
     },
     "output_type": "display_data"
    }
   ],
   "source": [
    "sns.displot(data = df, x='z', kind='hist')"
   ]
  },
  {
   "cell_type": "markdown",
   "id": "30892343",
   "metadata": {
    "papermill": {
     "duration": 0.022051,
     "end_time": "2022-09-20T11:51:53.160723",
     "exception": false,
     "start_time": "2022-09-20T11:51:53.138672",
     "status": "completed"
    },
    "pycharm": {
     "name": "#%% md\n"
    },
    "tags": []
   },
   "source": [
    "#### Categorial Data Visualization"
   ]
  },
  {
   "cell_type": "markdown",
   "id": "faf8418a",
   "metadata": {
    "papermill": {
     "duration": 0.021574,
     "end_time": "2022-09-20T11:51:53.204797",
     "exception": false,
     "start_time": "2022-09-20T11:51:53.183223",
     "status": "completed"
    },
    "pycharm": {
     "name": "#%% md\n"
    },
    "tags": []
   },
   "source": [
    "##### Cut Data Visualization"
   ]
  },
  {
   "cell_type": "code",
   "execution_count": 35,
   "id": "d5460daf",
   "metadata": {
    "execution": {
     "iopub.execute_input": "2022-09-20T11:51:53.256146Z",
     "iopub.status.busy": "2022-09-20T11:51:53.254901Z",
     "iopub.status.idle": "2022-09-20T11:51:53.664145Z",
     "shell.execute_reply": "2022-09-20T11:51:53.663004Z"
    },
    "papermill": {
     "duration": 0.439746,
     "end_time": "2022-09-20T11:51:53.666576",
     "exception": false,
     "start_time": "2022-09-20T11:51:53.226830",
     "status": "completed"
    },
    "pycharm": {
     "name": "#%%\n"
    },
    "tags": []
   },
   "outputs": [
    {
     "data": {
      "image/png": "[encoded data removed]",
      "text/plain": [
       "<Figure size 720x360 with 1 Axes>"
      ]
     },
     "metadata": {
      "needs_background": "light"
     },
     "output_type": "display_data"
    }
   ],
   "source": [
    "p = sns.catplot(x='cut', data=df, kind='count', aspect=2)"
   ]
  },
  {
   "cell_type": "markdown",
   "id": "f5a2ad73",
   "metadata": {
    "papermill": {
     "duration": 0.022048,
     "end_time": "2022-09-20T11:51:53.711159",
     "exception": false,
     "start_time": "2022-09-20T11:51:53.689111",
     "status": "completed"
    },
    "pycharm": {
     "name": "#%% md\n"
    },
    "tags": []
   },
   "source": [
    "##### Color Data Visualization"
   ]
  },
  {
   "cell_type": "code",
   "execution_count": 36,
   "id": "3224fa43",
   "metadata": {
    "execution": {
     "iopub.execute_input": "2022-09-20T11:51:53.758217Z",
     "iopub.status.busy": "2022-09-20T11:51:53.757420Z",
     "iopub.status.idle": "2022-09-20T11:51:54.147295Z",
     "shell.execute_reply": "2022-09-20T11:51:54.146026Z"
    },
    "papermill": {
     "duration": 0.416695,
     "end_time": "2022-09-20T11:51:54.150216",
     "exception": false,
     "start_time": "2022-09-20T11:51:53.733521",
     "status": "completed"
    },
    "pycharm": {
     "name": "#%%\n"
    },
    "tags": []
   },
   "outputs": [
    {
     "data": {
      "image/png": "[encoded data removed]",
      "text/plain": [
       "<Figure size 720x360 with 1 Axes>"
      ]
     },
     "metadata": {
      "needs_background": "light"
     },
     "output_type": "display_data"
    }
   ],
   "source": [
    "p = sns.catplot(x='color', data=df, kind='count', aspect=2)"
   ]
  },
  {
   "cell_type": "markdown",
   "id": "83e814a5",
   "metadata": {
    "papermill": {
     "duration": 0.024519,
     "end_time": "2022-09-20T11:51:54.197613",
     "exception": false,
     "start_time": "2022-09-20T11:51:54.173094",
     "status": "completed"
    },
    "pycharm": {
     "name": "#%% md\n"
    },
    "tags": []
   },
   "source": [
    "##### Clarity Data Visualization"
   ]
  },
  {
   "cell_type": "code",
   "execution_count": 37,
   "id": "a2163639",
   "metadata": {
    "execution": {
     "iopub.execute_input": "2022-09-20T11:51:54.246284Z",
     "iopub.status.busy": "2022-09-20T11:51:54.245199Z",
     "iopub.status.idle": "2022-09-20T11:51:54.654613Z",
     "shell.execute_reply": "2022-09-20T11:51:54.653426Z"
    },
    "papermill": {
     "duration": 0.436528,
     "end_time": "2022-09-20T11:51:54.657223",
     "exception": false,
     "start_time": "2022-09-20T11:51:54.220695",
     "status": "completed"
    },
    "pycharm": {
     "name": "#%%\n"
    },
    "tags": []
   },
   "outputs": [
    {
     "data": {
      "image/png": "[encoded data removed]",
      "text/plain": [
       "<Figure size 720x360 with 1 Axes>"
      ]
     },
     "metadata": {
      "needs_background": "light"
     },
     "output_type": "display_data"
    }
   ],
   "source": [
    "p = sns.catplot(x='clarity', data=df, kind='count', aspect=2)"
   ]
  },
  {
   "cell_type": "markdown",
   "id": "8e6532b2",
   "metadata": {
    "papermill": {
     "duration": 0.024612,
     "end_time": "2022-09-20T11:51:54.705205",
     "exception": false,
     "start_time": "2022-09-20T11:51:54.680593",
     "status": "completed"
    },
    "pycharm": {
     "name": "#%% md\n"
    },
    "tags": []
   },
   "source": [
    "#### Encoding Categorial Data"
   ]
  },
  {
   "cell_type": "code",
   "execution_count": 38,
   "id": "884afa26",
   "metadata": {
    "execution": {
     "iopub.execute_input": "2022-09-20T11:51:54.754228Z",
     "iopub.status.busy": "2022-09-20T11:51:54.753402Z",
     "iopub.status.idle": "2022-09-20T11:51:54.786003Z",
     "shell.execute_reply": "2022-09-20T11:51:54.784577Z"
    },
    "papermill": {
     "duration": 0.061098,
     "end_time": "2022-09-20T11:51:54.789038",
     "exception": false,
     "start_time": "2022-09-20T11:51:54.727940",
     "status": "completed"
    },
    "pycharm": {
     "name": "#%%\n"
    },
    "tags": []
   },
   "outputs": [],
   "source": [
    "# Encoding The Data Using .get_dummies() from Pandas Library \n",
    "# Converting Unique Categorial data into further different columns to remove priorities that we get when using Label Encoder\n",
    "\n",
    "def data_with_dummy_var(data):\n",
    "    return pd.get_dummies(data)\n",
    "\n",
    "X_clean = data_with_dummy_var(X)"
   ]
  },
  {
   "cell_type": "code",
   "execution_count": 39,
   "id": "553dd229",
   "metadata": {
    "execution": {
     "iopub.execute_input": "2022-09-20T11:51:54.836920Z",
     "iopub.status.busy": "2022-09-20T11:51:54.836528Z",
     "iopub.status.idle": "2022-09-20T11:51:54.854503Z",
     "shell.execute_reply": "2022-09-20T11:51:54.853621Z"
    },
    "papermill": {
     "duration": 0.045215,
     "end_time": "2022-09-20T11:51:54.857331",
     "exception": false,
     "start_time": "2022-09-20T11:51:54.812116",
     "status": "completed"
    },
    "pycharm": {
     "name": "#%%\n"
    },
    "tags": []
   },
   "outputs": [
    {
     "name": "stdout",
     "output_type": "stream",
     "text": [
      "<class 'pandas.core.frame.DataFrame'>\n",
      "Int64Index: 48424 entries, 0 to 53939\n",
      "Data columns (total 26 columns):\n",
      " #   Column         Non-Null Count  Dtype  \n",
      "---  ------         --------------  -----  \n",
      " 0   carat          48424 non-null  float64\n",
      " 1   depth          48424 non-null  float64\n",
      " 2   table          48424 non-null  float64\n",
      " 3   x              48424 non-null  float64\n",
      " 4   y              48424 non-null  float64\n",
      " 5   z              48424 non-null  float64\n",
      " 6   cut_Fair       48424 non-null  uint8  \n",
      " 7   cut_Good       48424 non-null  uint8  \n",
      " 8   cut_Ideal      48424 non-null  uint8  \n",
      " 9   cut_Premium    48424 non-null  uint8  \n",
      " 10  cut_Very Good  48424 non-null  uint8  \n",
      " 11  color_D        48424 non-null  uint8  \n",
      " 12  color_E        48424 non-null  uint8  \n",
      " 13  color_F        48424 non-null  uint8  \n",
      " 14  color_G        48424 non-null  uint8  \n",
      " 15  color_H        48424 non-null  uint8  \n",
      " 16  color_I        48424 non-null  uint8  \n",
      " 17  color_J        48424 non-null  uint8  \n",
      " 18  clarity_I1     48424 non-null  uint8  \n",
      " 19  clarity_IF     48424 non-null  uint8  \n",
      " 20  clarity_SI1    48424 non-null  uint8  \n",
      " 21  clarity_SI2    48424 non-null  uint8  \n",
      " 22  clarity_VS1    48424 non-null  uint8  \n",
      " 23  clarity_VS2    48424 non-null  uint8  \n",
      " 24  clarity_VVS1   48424 non-null  uint8  \n",
      " 25  clarity_VVS2   48424 non-null  uint8  \n",
      "dtypes: float64(6), uint8(20)\n",
      "memory usage: 4.5 MB\n"
     ]
    }
   ],
   "source": [
    "X_clean.info()"
   ]
  },
  {
   "cell_type": "markdown",
   "id": "e90f3f2f",
   "metadata": {
    "papermill": {
     "duration": 0.023478,
     "end_time": "2022-09-20T11:51:54.903958",
     "exception": false,
     "start_time": "2022-09-20T11:51:54.880480",
     "status": "completed"
    },
    "pycharm": {
     "name": "#%% md\n"
    },
    "tags": []
   },
   "source": [
    "### Visualizing Data Using HeatMap"
   ]
  },
  {
   "cell_type": "code",
   "execution_count": 40,
   "id": "29e3eb21",
   "metadata": {
    "execution": {
     "iopub.execute_input": "2022-09-20T11:51:54.953531Z",
     "iopub.status.busy": "2022-09-20T11:51:54.952851Z",
     "iopub.status.idle": "2022-09-20T11:51:58.973305Z",
     "shell.execute_reply": "2022-09-20T11:51:58.972068Z"
    },
    "papermill": {
     "duration": 4.051578,
     "end_time": "2022-09-20T11:51:58.979143",
     "exception": false,
     "start_time": "2022-09-20T11:51:54.927565",
     "status": "completed"
    },
    "pycharm": {
     "name": "#%%\n"
    },
    "tags": []
   },
   "outputs": [
    {
     "data": {
      "text/plain": [
       "<AxesSubplot:>"
      ]
     },
     "execution_count": 40,
     "metadata": {},
     "output_type": "execute_result"
    },
    {
     "data": {
      "image/png": "[encoded data removed]",
      "text/plain": [
       "<Figure size 1440x1440 with 2 Axes>"
      ]
     },
     "metadata": {
      "needs_background": "light"
     },
     "output_type": "display_data"
    }
   ],
   "source": [
    "plt.figure(figsize=(20,20))\n",
    "sns.heatmap(X_clean.corr(), annot=True,cmap='RdYlGn')"
   ]
  },
  {
   "cell_type": "markdown",
   "id": "4ceb14b4",
   "metadata": {
    "papermill": {
     "duration": 0.029669,
     "end_time": "2022-09-20T11:51:59.038417",
     "exception": false,
     "start_time": "2022-09-20T11:51:59.008748",
     "status": "completed"
    },
    "pycharm": {
     "name": "#%% md\n"
    },
    "tags": []
   },
   "source": [
    "### Splitting Data For Training and Testing Phase for Machine Learning Models"
   ]
  },
  {
   "cell_type": "code",
   "execution_count": 41,
   "id": "365cf1f1",
   "metadata": {
    "execution": {
     "iopub.execute_input": "2022-09-20T11:51:59.098996Z",
     "iopub.status.busy": "2022-09-20T11:51:59.098234Z",
     "iopub.status.idle": "2022-09-20T11:51:59.335915Z",
     "shell.execute_reply": "2022-09-20T11:51:59.334541Z"
    },
    "papermill": {
     "duration": 0.270378,
     "end_time": "2022-09-20T11:51:59.339048",
     "exception": false,
     "start_time": "2022-09-20T11:51:59.068670",
     "status": "completed"
    },
    "pycharm": {
     "name": "#%%\n"
    },
    "tags": []
   },
   "outputs": [],
   "source": [
    "from sklearn.model_selection import train_test_split\n",
    "xtrain, xtest, ytrain, ytest = train_test_split(X_clean, y, test_size=0.2, random_state=1)"
   ]
  },
  {
   "cell_type": "code",
   "execution_count": 42,
   "id": "44ab0ddb",
   "metadata": {
    "execution": {
     "iopub.execute_input": "2022-09-20T11:51:59.397259Z",
     "iopub.status.busy": "2022-09-20T11:51:59.396842Z",
     "iopub.status.idle": "2022-09-20T11:51:59.402138Z",
     "shell.execute_reply": "2022-09-20T11:51:59.400876Z"
    },
    "papermill": {
     "duration": 0.03764,
     "end_time": "2022-09-20T11:51:59.404813",
     "exception": false,
     "start_time": "2022-09-20T11:51:59.367173",
     "status": "completed"
    },
    "pycharm": {
     "name": "#%%\n"
    },
    "tags": []
   },
   "outputs": [],
   "source": [
    "from sklearn.metrics import r2_score"
   ]
  },
  {
   "cell_type": "markdown",
   "id": "6438c446",
   "metadata": {
    "papermill": {
     "duration": 0.027255,
     "end_time": "2022-09-20T11:51:59.460856",
     "exception": false,
     "start_time": "2022-09-20T11:51:59.433601",
     "status": "completed"
    },
    "pycharm": {
     "name": "#%% md\n"
    },
    "tags": []
   },
   "source": [
    "### Decision Tree Model"
   ]
  },
  {
   "cell_type": "code",
   "execution_count": 43,
   "id": "d1e79cc9",
   "metadata": {
    "execution": {
     "iopub.execute_input": "2022-09-20T11:51:59.520058Z",
     "iopub.status.busy": "2022-09-20T11:51:59.519014Z",
     "iopub.status.idle": "2022-09-20T11:51:59.900496Z",
     "shell.execute_reply": "2022-09-20T11:51:59.899566Z"
    },
    "papermill": {
     "duration": 0.414066,
     "end_time": "2022-09-20T11:51:59.902886",
     "exception": false,
     "start_time": "2022-09-20T11:51:59.488820",
     "status": "completed"
    },
    "pycharm": {
     "name": "#%%\n"
    },
    "tags": []
   },
   "outputs": [
    {
     "data": {
      "text/plain": [
       "0.9757758720624489"
      ]
     },
     "execution_count": 43,
     "metadata": {},
     "output_type": "execute_result"
    }
   ],
   "source": [
    "# Decision Tree\n",
    "from sklearn.tree import DecisionTreeRegressor\n",
    "\n",
    "reg1 = DecisionTreeRegressor(max_depth=13)\n",
    "reg1.fit(xtrain, ytrain)\n",
    "\n",
    "# Prediction\n",
    "ypred =  reg1.predict(xtest)\n",
    "\n",
    "# Checking Accuracy\n",
    "r2_score(ytest, ypred)\n"
   ]
  },
  {
   "cell_type": "markdown",
   "id": "7b10d1bb",
   "metadata": {
    "papermill": {
     "duration": 0.02918,
     "end_time": "2022-09-20T11:51:59.961102",
     "exception": false,
     "start_time": "2022-09-20T11:51:59.931922",
     "status": "completed"
    },
    "pycharm": {
     "name": "#%% md\n"
    },
    "tags": []
   },
   "source": [
    "### Random Forest Model"
   ]
  },
  {
   "cell_type": "code",
   "execution_count": 44,
   "id": "795fa8ab",
   "metadata": {
    "execution": {
     "iopub.execute_input": "2022-09-20T11:52:00.021684Z",
     "iopub.status.busy": "2022-09-20T11:52:00.020550Z",
     "iopub.status.idle": "2022-09-20T11:52:05.028027Z",
     "shell.execute_reply": "2022-09-20T11:52:05.026577Z"
    },
    "papermill": {
     "duration": 5.040759,
     "end_time": "2022-09-20T11:52:05.030629",
     "exception": false,
     "start_time": "2022-09-20T11:51:59.989870",
     "status": "completed"
    },
    "pycharm": {
     "name": "#%%\n"
    },
    "tags": []
   },
   "outputs": [
    {
     "data": {
      "text/plain": [
       "0.9829672675157708"
      ]
     },
     "execution_count": 44,
     "metadata": {},
     "output_type": "execute_result"
    }
   ],
   "source": [
    "# Random Forest\n",
    "from sklearn.ensemble import RandomForestRegressor\n",
    "\n",
    "reg2 = RandomForestRegressor(n_estimators=29, max_depth=17, random_state=1) # Criterion = Squared Error by default\n",
    "reg2.fit(xtrain, ytrain)\n",
    "\n",
    "# Predicting using Xtest Data\n",
    "ypred = reg2.predict(xtest)\n",
    "\n",
    "# Checking Accuracy\n",
    "r2_score(ytest, ypred)\n"
   ]
  },
  {
   "cell_type": "code",
   "execution_count": 45,
   "id": "ba995759",
   "metadata": {
    "execution": {
     "iopub.execute_input": "2022-09-20T11:52:05.090653Z",
     "iopub.status.busy": "2022-09-20T11:52:05.090244Z",
     "iopub.status.idle": "2022-09-20T11:52:05.204170Z",
     "shell.execute_reply": "2022-09-20T11:52:05.202559Z"
    },
    "papermill": {
     "duration": 0.147655,
     "end_time": "2022-09-20T11:52:05.206901",
     "exception": false,
     "start_time": "2022-09-20T11:52:05.059246",
     "status": "completed"
    },
    "pycharm": {
     "name": "#%%\n"
    },
    "scrolled": true,
    "tags": []
   },
   "outputs": [
    {
     "data": {
      "text/html": [
       "<div>\n",
       "<style scoped>\n",
       "    .dataframe tbody tr th:only-of-type {\n",
       "        vertical-align: middle;\n",
       "    }\n",
       "\n",
       "    .dataframe tbody tr th {\n",
       "        vertical-align: top;\n",
       "    }\n",
       "\n",
       "    .dataframe thead th {\n",
       "        text-align: right;\n",
       "    }\n",
       "</style>\n",
       "<table border=\"1\" class=\"dataframe\">\n",
       "  <thead>\n",
       "    <tr style=\"text-align: right;\">\n",
       "      <th></th>\n",
       "      <th>carat</th>\n",
       "      <th>depth</th>\n",
       "      <th>table</th>\n",
       "      <th>x</th>\n",
       "      <th>y</th>\n",
       "      <th>z</th>\n",
       "      <th>cut_Fair</th>\n",
       "      <th>cut_Good</th>\n",
       "      <th>cut_Ideal</th>\n",
       "      <th>cut_Premium</th>\n",
       "      <th>...</th>\n",
       "      <th>color_I</th>\n",
       "      <th>color_J</th>\n",
       "      <th>clarity_I1</th>\n",
       "      <th>clarity_IF</th>\n",
       "      <th>clarity_SI1</th>\n",
       "      <th>clarity_SI2</th>\n",
       "      <th>clarity_VS1</th>\n",
       "      <th>clarity_VS2</th>\n",
       "      <th>clarity_VVS1</th>\n",
       "      <th>clarity_VVS2</th>\n",
       "    </tr>\n",
       "  </thead>\n",
       "  <tbody>\n",
       "    <tr>\n",
       "      <th>count</th>\n",
       "      <td>38739.000000</td>\n",
       "      <td>38739.000000</td>\n",
       "      <td>38739.000000</td>\n",
       "      <td>38739.000000</td>\n",
       "      <td>38739.000000</td>\n",
       "      <td>38739.000000</td>\n",
       "      <td>38739.000000</td>\n",
       "      <td>38739.000000</td>\n",
       "      <td>38739.000000</td>\n",
       "      <td>38739.000000</td>\n",
       "      <td>...</td>\n",
       "      <td>38739.000000</td>\n",
       "      <td>38739.000000</td>\n",
       "      <td>38739.000000</td>\n",
       "      <td>38739.000000</td>\n",
       "      <td>38739.000000</td>\n",
       "      <td>38739.000000</td>\n",
       "      <td>38739.000000</td>\n",
       "      <td>38739.000000</td>\n",
       "      <td>38739.000000</td>\n",
       "      <td>38739.000000</td>\n",
       "    </tr>\n",
       "    <tr>\n",
       "      <th>mean</th>\n",
       "      <td>0.733912</td>\n",
       "      <td>61.808562</td>\n",
       "      <td>57.238099</td>\n",
       "      <td>5.601182</td>\n",
       "      <td>5.606144</td>\n",
       "      <td>3.463399</td>\n",
       "      <td>0.003950</td>\n",
       "      <td>0.076873</td>\n",
       "      <td>0.432562</td>\n",
       "      <td>0.254859</td>\n",
       "      <td>...</td>\n",
       "      <td>0.092697</td>\n",
       "      <td>0.045174</td>\n",
       "      <td>0.009293</td>\n",
       "      <td>0.035778</td>\n",
       "      <td>0.242159</td>\n",
       "      <td>0.148584</td>\n",
       "      <td>0.157903</td>\n",
       "      <td>0.232944</td>\n",
       "      <td>0.073931</td>\n",
       "      <td>0.099409</td>\n",
       "    </tr>\n",
       "    <tr>\n",
       "      <th>std</th>\n",
       "      <td>0.394052</td>\n",
       "      <td>1.059721</td>\n",
       "      <td>2.003976</td>\n",
       "      <td>1.017772</td>\n",
       "      <td>1.012301</td>\n",
       "      <td>0.629532</td>\n",
       "      <td>0.062722</td>\n",
       "      <td>0.266394</td>\n",
       "      <td>0.495438</td>\n",
       "      <td>0.435788</td>\n",
       "      <td>...</td>\n",
       "      <td>0.290011</td>\n",
       "      <td>0.207689</td>\n",
       "      <td>0.095952</td>\n",
       "      <td>0.185738</td>\n",
       "      <td>0.428396</td>\n",
       "      <td>0.355683</td>\n",
       "      <td>0.364655</td>\n",
       "      <td>0.422712</td>\n",
       "      <td>0.261661</td>\n",
       "      <td>0.299214</td>\n",
       "    </tr>\n",
       "    <tr>\n",
       "      <th>min</th>\n",
       "      <td>0.200000</td>\n",
       "      <td>59.100000</td>\n",
       "      <td>52.000000</td>\n",
       "      <td>3.730000</td>\n",
       "      <td>3.710000</td>\n",
       "      <td>1.410000</td>\n",
       "      <td>0.000000</td>\n",
       "      <td>0.000000</td>\n",
       "      <td>0.000000</td>\n",
       "      <td>0.000000</td>\n",
       "      <td>...</td>\n",
       "      <td>0.000000</td>\n",
       "      <td>0.000000</td>\n",
       "      <td>0.000000</td>\n",
       "      <td>0.000000</td>\n",
       "      <td>0.000000</td>\n",
       "      <td>0.000000</td>\n",
       "      <td>0.000000</td>\n",
       "      <td>0.000000</td>\n",
       "      <td>0.000000</td>\n",
       "      <td>0.000000</td>\n",
       "    </tr>\n",
       "    <tr>\n",
       "      <th>25%</th>\n",
       "      <td>0.380000</td>\n",
       "      <td>61.200000</td>\n",
       "      <td>56.000000</td>\n",
       "      <td>4.660000</td>\n",
       "      <td>4.670000</td>\n",
       "      <td>2.880000</td>\n",
       "      <td>0.000000</td>\n",
       "      <td>0.000000</td>\n",
       "      <td>0.000000</td>\n",
       "      <td>0.000000</td>\n",
       "      <td>...</td>\n",
       "      <td>0.000000</td>\n",
       "      <td>0.000000</td>\n",
       "      <td>0.000000</td>\n",
       "      <td>0.000000</td>\n",
       "      <td>0.000000</td>\n",
       "      <td>0.000000</td>\n",
       "      <td>0.000000</td>\n",
       "      <td>0.000000</td>\n",
       "      <td>0.000000</td>\n",
       "      <td>0.000000</td>\n",
       "    </tr>\n",
       "    <tr>\n",
       "      <th>50%</th>\n",
       "      <td>0.670000</td>\n",
       "      <td>61.900000</td>\n",
       "      <td>57.000000</td>\n",
       "      <td>5.580000</td>\n",
       "      <td>5.570000</td>\n",
       "      <td>3.440000</td>\n",
       "      <td>0.000000</td>\n",
       "      <td>0.000000</td>\n",
       "      <td>0.000000</td>\n",
       "      <td>0.000000</td>\n",
       "      <td>...</td>\n",
       "      <td>0.000000</td>\n",
       "      <td>0.000000</td>\n",
       "      <td>0.000000</td>\n",
       "      <td>0.000000</td>\n",
       "      <td>0.000000</td>\n",
       "      <td>0.000000</td>\n",
       "      <td>0.000000</td>\n",
       "      <td>0.000000</td>\n",
       "      <td>0.000000</td>\n",
       "      <td>0.000000</td>\n",
       "    </tr>\n",
       "    <tr>\n",
       "      <th>75%</th>\n",
       "      <td>1.020000</td>\n",
       "      <td>62.500000</td>\n",
       "      <td>59.000000</td>\n",
       "      <td>6.460000</td>\n",
       "      <td>6.460000</td>\n",
       "      <td>4.000000</td>\n",
       "      <td>0.000000</td>\n",
       "      <td>0.000000</td>\n",
       "      <td>1.000000</td>\n",
       "      <td>1.000000</td>\n",
       "      <td>...</td>\n",
       "      <td>0.000000</td>\n",
       "      <td>0.000000</td>\n",
       "      <td>0.000000</td>\n",
       "      <td>0.000000</td>\n",
       "      <td>0.000000</td>\n",
       "      <td>0.000000</td>\n",
       "      <td>0.000000</td>\n",
       "      <td>0.000000</td>\n",
       "      <td>0.000000</td>\n",
       "      <td>0.000000</td>\n",
       "    </tr>\n",
       "    <tr>\n",
       "      <th>max</th>\n",
       "      <td>1.960000</td>\n",
       "      <td>64.500000</td>\n",
       "      <td>63.300000</td>\n",
       "      <td>8.110000</td>\n",
       "      <td>8.210000</td>\n",
       "      <td>4.980000</td>\n",
       "      <td>1.000000</td>\n",
       "      <td>1.000000</td>\n",
       "      <td>1.000000</td>\n",
       "      <td>1.000000</td>\n",
       "      <td>...</td>\n",
       "      <td>1.000000</td>\n",
       "      <td>1.000000</td>\n",
       "      <td>1.000000</td>\n",
       "      <td>1.000000</td>\n",
       "      <td>1.000000</td>\n",
       "      <td>1.000000</td>\n",
       "      <td>1.000000</td>\n",
       "      <td>1.000000</td>\n",
       "      <td>1.000000</td>\n",
       "      <td>1.000000</td>\n",
       "    </tr>\n",
       "  </tbody>\n",
       "</table>\n",
       "<p>8 rows × 26 columns</p>\n",
       "</div>"
      ],
      "text/plain": [
       "              carat         depth         table             x             y  \\\n",
       "count  38739.000000  38739.000000  38739.000000  38739.000000  38739.000000   \n",
       "mean       0.733912     61.808562     57.238099      5.601182      5.606144   \n",
       "std        0.394052      1.059721      2.003976      1.017772      1.012301   \n",
       "min        0.200000     59.100000     52.000000      3.730000      3.710000   \n",
       "25%        0.380000     61.200000     56.000000      4.660000      4.670000   \n",
       "50%        0.670000     61.900000     57.000000      5.580000      5.570000   \n",
       "75%        1.020000     62.500000     59.000000      6.460000      6.460000   \n",
       "max        1.960000     64.500000     63.300000      8.110000      8.210000   \n",
       "\n",
       "                  z      cut_Fair      cut_Good     cut_Ideal   cut_Premium  \\\n",
       "count  38739.000000  38739.000000  38739.000000  38739.000000  38739.000000   \n",
       "mean       3.463399      0.003950      0.076873      0.432562      0.254859   \n",
       "std        0.629532      0.062722      0.266394      0.495438      0.435788   \n",
       "min        1.410000      0.000000      0.000000      0.000000      0.000000   \n",
       "25%        2.880000      0.000000      0.000000      0.000000      0.000000   \n",
       "50%        3.440000      0.000000      0.000000      0.000000      0.000000   \n",
       "75%        4.000000      0.000000      0.000000      1.000000      1.000000   \n",
       "max        4.980000      1.000000      1.000000      1.000000      1.000000   \n",
       "\n",
       "       ...       color_I       color_J    clarity_I1    clarity_IF  \\\n",
       "count  ...  38739.000000  38739.000000  38739.000000  38739.000000   \n",
       "mean   ...      0.092697      0.045174      0.009293      0.035778   \n",
       "std    ...      0.290011      0.207689      0.095952      0.185738   \n",
       "min    ...      0.000000      0.000000      0.000000      0.000000   \n",
       "25%    ...      0.000000      0.000000      0.000000      0.000000   \n",
       "50%    ...      0.000000      0.000000      0.000000      0.000000   \n",
       "75%    ...      0.000000      0.000000      0.000000      0.000000   \n",
       "max    ...      1.000000      1.000000      1.000000      1.000000   \n",
       "\n",
       "        clarity_SI1   clarity_SI2   clarity_VS1   clarity_VS2  clarity_VVS1  \\\n",
       "count  38739.000000  38739.000000  38739.000000  38739.000000  38739.000000   \n",
       "mean       0.242159      0.148584      0.157903      0.232944      0.073931   \n",
       "std        0.428396      0.355683      0.364655      0.422712      0.261661   \n",
       "min        0.000000      0.000000      0.000000      0.000000      0.000000   \n",
       "25%        0.000000      0.000000      0.000000      0.000000      0.000000   \n",
       "50%        0.000000      0.000000      0.000000      0.000000      0.000000   \n",
       "75%        0.000000      0.000000      0.000000      0.000000      0.000000   \n",
       "max        1.000000      1.000000      1.000000      1.000000      1.000000   \n",
       "\n",
       "       clarity_VVS2  \n",
       "count  38739.000000  \n",
       "mean       0.099409  \n",
       "std        0.299214  \n",
       "min        0.000000  \n",
       "25%        0.000000  \n",
       "50%        0.000000  \n",
       "75%        0.000000  \n",
       "max        1.000000  \n",
       "\n",
       "[8 rows x 26 columns]"
      ]
     },
     "execution_count": 45,
     "metadata": {},
     "output_type": "execute_result"
    }
   ],
   "source": [
    "xtrain.describe()"
   ]
  },
  {
   "cell_type": "markdown",
   "id": "32adc312",
   "metadata": {
    "papermill": {
     "duration": 0.028432,
     "end_time": "2022-09-20T11:52:05.265511",
     "exception": false,
     "start_time": "2022-09-20T11:52:05.237079",
     "status": "completed"
    },
    "pycharm": {
     "name": "#%% md\n"
    },
    "tags": []
   },
   "source": [
    "### Feature Scaling\n",
    "#### Scaling data from features to improve accuracy for Linear Regression Model"
   ]
  },
  {
   "cell_type": "code",
   "execution_count": 46,
   "id": "89463b14",
   "metadata": {
    "execution": {
     "iopub.execute_input": "2022-09-20T11:52:05.327100Z",
     "iopub.status.busy": "2022-09-20T11:52:05.326398Z",
     "iopub.status.idle": "2022-09-20T11:52:05.407218Z",
     "shell.execute_reply": "2022-09-20T11:52:05.405741Z"
    },
    "papermill": {
     "duration": 0.115795,
     "end_time": "2022-09-20T11:52:05.410089",
     "exception": false,
     "start_time": "2022-09-20T11:52:05.294294",
     "status": "completed"
    },
    "pycharm": {
     "name": "#%%\n"
    },
    "tags": []
   },
   "outputs": [],
   "source": [
    "from sklearn.preprocessing import StandardScaler\n",
    "\n",
    "# Assining object for our scaler\n",
    "scaler = StandardScaler()\n",
    "xtrain.iloc[:, :7] = scaler.fit_transform(xtrain.iloc[:, :7])\n",
    "xtest.iloc[:, :7] = scaler.transform(xtest.iloc[:, :7])"
   ]
  },
  {
   "cell_type": "code",
   "execution_count": 47,
   "id": "9e51c0e1",
   "metadata": {
    "execution": {
     "iopub.execute_input": "2022-09-20T11:52:05.469391Z",
     "iopub.status.busy": "2022-09-20T11:52:05.469024Z",
     "iopub.status.idle": "2022-09-20T11:52:05.489939Z",
     "shell.execute_reply": "2022-09-20T11:52:05.489123Z"
    },
    "papermill": {
     "duration": 0.054118,
     "end_time": "2022-09-20T11:52:05.492809",
     "exception": false,
     "start_time": "2022-09-20T11:52:05.438691",
     "status": "completed"
    },
    "pycharm": {
     "name": "#%%\n"
    },
    "scrolled": true,
    "tags": []
   },
   "outputs": [
    {
     "data": {
      "text/html": [
       "<div>\n",
       "<style scoped>\n",
       "    .dataframe tbody tr th:only-of-type {\n",
       "        vertical-align: middle;\n",
       "    }\n",
       "\n",
       "    .dataframe tbody tr th {\n",
       "        vertical-align: top;\n",
       "    }\n",
       "\n",
       "    .dataframe thead th {\n",
       "        text-align: right;\n",
       "    }\n",
       "</style>\n",
       "<table border=\"1\" class=\"dataframe\">\n",
       "  <thead>\n",
       "    <tr style=\"text-align: right;\">\n",
       "      <th></th>\n",
       "      <th>carat</th>\n",
       "      <th>depth</th>\n",
       "      <th>table</th>\n",
       "      <th>x</th>\n",
       "      <th>y</th>\n",
       "      <th>z</th>\n",
       "      <th>cut_Fair</th>\n",
       "      <th>cut_Good</th>\n",
       "      <th>cut_Ideal</th>\n",
       "      <th>cut_Premium</th>\n",
       "      <th>...</th>\n",
       "      <th>color_I</th>\n",
       "      <th>color_J</th>\n",
       "      <th>clarity_I1</th>\n",
       "      <th>clarity_IF</th>\n",
       "      <th>clarity_SI1</th>\n",
       "      <th>clarity_SI2</th>\n",
       "      <th>clarity_VS1</th>\n",
       "      <th>clarity_VS2</th>\n",
       "      <th>clarity_VVS1</th>\n",
       "      <th>clarity_VVS2</th>\n",
       "    </tr>\n",
       "  </thead>\n",
       "  <tbody>\n",
       "    <tr>\n",
       "      <th>12036</th>\n",
       "      <td>-0.999657</td>\n",
       "      <td>0.841211</td>\n",
       "      <td>-1.116843</td>\n",
       "      <td>-1.101618</td>\n",
       "      <td>-1.102595</td>\n",
       "      <td>-1.037926</td>\n",
       "      <td>-0.062970</td>\n",
       "      <td>0</td>\n",
       "      <td>1</td>\n",
       "      <td>0</td>\n",
       "      <td>...</td>\n",
       "      <td>0</td>\n",
       "      <td>0</td>\n",
       "      <td>0</td>\n",
       "      <td>0</td>\n",
       "      <td>0</td>\n",
       "      <td>0</td>\n",
       "      <td>0</td>\n",
       "      <td>1</td>\n",
       "      <td>0</td>\n",
       "      <td>0</td>\n",
       "    </tr>\n",
       "    <tr>\n",
       "      <th>7860</th>\n",
       "      <td>0.700648</td>\n",
       "      <td>0.463748</td>\n",
       "      <td>-0.118815</td>\n",
       "      <td>0.745577</td>\n",
       "      <td>0.803977</td>\n",
       "      <td>0.820621</td>\n",
       "      <td>-0.062970</td>\n",
       "      <td>0</td>\n",
       "      <td>0</td>\n",
       "      <td>0</td>\n",
       "      <td>...</td>\n",
       "      <td>0</td>\n",
       "      <td>0</td>\n",
       "      <td>0</td>\n",
       "      <td>0</td>\n",
       "      <td>1</td>\n",
       "      <td>0</td>\n",
       "      <td>0</td>\n",
       "      <td>0</td>\n",
       "      <td>0</td>\n",
       "      <td>0</td>\n",
       "    </tr>\n",
       "    <tr>\n",
       "      <th>38301</th>\n",
       "      <td>-0.974280</td>\n",
       "      <td>0.558114</td>\n",
       "      <td>-0.118815</td>\n",
       "      <td>-1.111444</td>\n",
       "      <td>-1.092716</td>\n",
       "      <td>-1.053811</td>\n",
       "      <td>-0.062970</td>\n",
       "      <td>0</td>\n",
       "      <td>0</td>\n",
       "      <td>0</td>\n",
       "      <td>...</td>\n",
       "      <td>0</td>\n",
       "      <td>0</td>\n",
       "      <td>0</td>\n",
       "      <td>0</td>\n",
       "      <td>0</td>\n",
       "      <td>1</td>\n",
       "      <td>0</td>\n",
       "      <td>0</td>\n",
       "      <td>0</td>\n",
       "      <td>0</td>\n",
       "    </tr>\n",
       "    <tr>\n",
       "      <th>20631</th>\n",
       "      <td>1.665000</td>\n",
       "      <td>0.558114</td>\n",
       "      <td>0.879214</td>\n",
       "      <td>1.511966</td>\n",
       "      <td>1.465843</td>\n",
       "      <td>1.551332</td>\n",
       "      <td>-0.062970</td>\n",
       "      <td>0</td>\n",
       "      <td>0</td>\n",
       "      <td>1</td>\n",
       "      <td>...</td>\n",
       "      <td>0</td>\n",
       "      <td>0</td>\n",
       "      <td>0</td>\n",
       "      <td>0</td>\n",
       "      <td>1</td>\n",
       "      <td>0</td>\n",
       "      <td>0</td>\n",
       "      <td>0</td>\n",
       "      <td>0</td>\n",
       "      <td>0</td>\n",
       "    </tr>\n",
       "    <tr>\n",
       "      <th>49831</th>\n",
       "      <td>0.269227</td>\n",
       "      <td>2.539794</td>\n",
       "      <td>1.378228</td>\n",
       "      <td>0.313255</td>\n",
       "      <td>0.231017</td>\n",
       "      <td>0.518806</td>\n",
       "      <td>15.880683</td>\n",
       "      <td>0</td>\n",
       "      <td>0</td>\n",
       "      <td>0</td>\n",
       "      <td>...</td>\n",
       "      <td>0</td>\n",
       "      <td>0</td>\n",
       "      <td>0</td>\n",
       "      <td>0</td>\n",
       "      <td>0</td>\n",
       "      <td>1</td>\n",
       "      <td>0</td>\n",
       "      <td>0</td>\n",
       "      <td>0</td>\n",
       "      <td>0</td>\n",
       "    </tr>\n",
       "  </tbody>\n",
       "</table>\n",
       "<p>5 rows × 26 columns</p>\n",
       "</div>"
      ],
      "text/plain": [
       "          carat     depth     table         x         y         z   cut_Fair  \\\n",
       "12036 -0.999657  0.841211 -1.116843 -1.101618 -1.102595 -1.037926  -0.062970   \n",
       "7860   0.700648  0.463748 -0.118815  0.745577  0.803977  0.820621  -0.062970   \n",
       "38301 -0.974280  0.558114 -0.118815 -1.111444 -1.092716 -1.053811  -0.062970   \n",
       "20631  1.665000  0.558114  0.879214  1.511966  1.465843  1.551332  -0.062970   \n",
       "49831  0.269227  2.539794  1.378228  0.313255  0.231017  0.518806  15.880683   \n",
       "\n",
       "       cut_Good  cut_Ideal  cut_Premium  ...  color_I  color_J  clarity_I1  \\\n",
       "12036         0          1            0  ...        0        0           0   \n",
       "7860          0          0            0  ...        0        0           0   \n",
       "38301         0          0            0  ...        0        0           0   \n",
       "20631         0          0            1  ...        0        0           0   \n",
       "49831         0          0            0  ...        0        0           0   \n",
       "\n",
       "       clarity_IF  clarity_SI1  clarity_SI2  clarity_VS1  clarity_VS2  \\\n",
       "12036           0            0            0            0            1   \n",
       "7860            0            1            0            0            0   \n",
       "38301           0            0            1            0            0   \n",
       "20631           0            1            0            0            0   \n",
       "49831           0            0            1            0            0   \n",
       "\n",
       "       clarity_VVS1  clarity_VVS2  \n",
       "12036             0             0  \n",
       "7860              0             0  \n",
       "38301             0             0  \n",
       "20631             0             0  \n",
       "49831             0             0  \n",
       "\n",
       "[5 rows x 26 columns]"
      ]
     },
     "execution_count": 47,
     "metadata": {},
     "output_type": "execute_result"
    }
   ],
   "source": [
    "xtrain.head()"
   ]
  },
  {
   "cell_type": "markdown",
   "id": "191f1a8d",
   "metadata": {
    "papermill": {
     "duration": 0.028736,
     "end_time": "2022-09-20T11:52:05.550452",
     "exception": false,
     "start_time": "2022-09-20T11:52:05.521716",
     "status": "completed"
    },
    "pycharm": {
     "name": "#%% md\n"
    },
    "tags": []
   },
   "source": [
    "### Linear Regression"
   ]
  },
  {
   "cell_type": "code",
   "execution_count": 48,
   "id": "178005f1",
   "metadata": {
    "execution": {
     "iopub.execute_input": "2022-09-20T11:52:05.612152Z",
     "iopub.status.busy": "2022-09-20T11:52:05.611526Z",
     "iopub.status.idle": "2022-09-20T11:52:05.679218Z",
     "shell.execute_reply": "2022-09-20T11:52:05.677612Z"
    },
    "papermill": {
     "duration": 0.103056,
     "end_time": "2022-09-20T11:52:05.683550",
     "exception": false,
     "start_time": "2022-09-20T11:52:05.580494",
     "status": "completed"
    },
    "pycharm": {
     "name": "#%%\n"
    },
    "tags": []
   },
   "outputs": [
    {
     "data": {
      "text/plain": [
       "0.910485183606365"
      ]
     },
     "execution_count": 48,
     "metadata": {},
     "output_type": "execute_result"
    }
   ],
   "source": [
    "# Linear Regression\n",
    "from sklearn.linear_model import LinearRegression\n",
    "reg3 = LinearRegression()\n",
    "reg3.fit(xtrain, ytrain)\n",
    "\n",
    "# Predict Data Values using X Test\n",
    "ypred = reg3.predict(xtest)\n",
    "\n",
    "# Checking Accuracy Via R2_Score library\n",
    "r2_score(ytest, ypred)\n"
   ]
  },
  {
   "cell_type": "markdown",
   "id": "3a9a6f22",
   "metadata": {
    "papermill": {
     "duration": 0.032481,
     "end_time": "2022-09-20T11:52:05.818993",
     "exception": false,
     "start_time": "2022-09-20T11:52:05.786512",
     "status": "completed"
    },
    "pycharm": {
     "name": "#%% md\n"
    },
    "tags": []
   },
   "source": [
    "### Training Model with Whole Data\n",
    "#### Best Model Accuracy is ~0.98 with Random Forest Model"
   ]
  },
  {
   "cell_type": "code",
   "execution_count": 49,
   "id": "a5931b4d",
   "metadata": {
    "execution": {
     "iopub.execute_input": "2022-09-20T11:52:05.878841Z",
     "iopub.status.busy": "2022-09-20T11:52:05.878434Z",
     "iopub.status.idle": "2022-09-20T11:52:11.441307Z",
     "shell.execute_reply": "2022-09-20T11:52:11.439789Z"
    },
    "papermill": {
     "duration": 5.595845,
     "end_time": "2022-09-20T11:52:11.444148",
     "exception": false,
     "start_time": "2022-09-20T11:52:05.848303",
     "status": "completed"
    },
    "pycharm": {
     "name": "#%%\n"
    },
    "tags": []
   },
   "outputs": [
    {
     "data": {
      "text/plain": [
       "RandomForestRegressor(max_depth=17, n_estimators=29, random_state=1)"
      ]
     },
     "execution_count": 49,
     "metadata": {},
     "output_type": "execute_result"
    }
   ],
   "source": [
    "# Random Forest\n",
    "from sklearn.ensemble import RandomForestRegressor\n",
    "\n",
    "regressor = RandomForestRegressor(n_estimators=29, max_depth=17, random_state=1) # Criterion = Squared Error by default\n",
    "regressor.fit(X_clean, y)\n"
   ]
  }
 ],
 "metadata": {
  "kernelspec": {
   "display_name": "Python 3 (ipykernel)",
   "language": "python",
   "name": "python3"
  },
  "language_info": {
   "codemirror_mode": {
    "name": "ipython",
    "version": 3
   },
   "file_extension": ".py",
   "mimetype": "text/x-python",
   "name": "python",
   "nbconvert_exporter": "python",
   "pygments_lexer": "ipython3",
   "version": "3.9.12"
  },
  "papermill": {
   "default_parameters": {},
   "duration": 38.640799,
   "end_time": "2022-09-20T11:52:12.501050",
   "environment_variables": {},
   "exception": null,
   "input_path": "__notebook__.ipynb",
   "output_path": "__notebook__.ipynb",
   "parameters": {},
   "start_time": "2022-09-20T11:51:33.860251",
   "version": "2.3.4"
  }
 },
 "nbformat": 4,
 "nbformat_minor": 5
}
